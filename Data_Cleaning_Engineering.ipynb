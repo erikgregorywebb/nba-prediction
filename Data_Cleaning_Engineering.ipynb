{
 "cells": [
  {
   "cell_type": "markdown",
   "metadata": {},
   "source": [
    "### Data Cleaning + Engineering"
   ]
  },
  {
   "cell_type": "markdown",
   "metadata": {},
   "source": [
    "NBA Season Date Source: https://en.wikipedia.org/wiki/2017_NBA_Playoffs"
   ]
  },
  {
   "cell_type": "code",
   "execution_count": 1,
   "metadata": {},
   "outputs": [],
   "source": [
    "import pandas as pd\n",
    "import numpy as np\n",
    "import pdb\n",
    "\n",
    "pd.set_option('display.max_columns', None)"
   ]
  },
  {
   "cell_type": "code",
   "execution_count": 2,
   "metadata": {
    "scrolled": true
   },
   "outputs": [
    {
     "data": {
      "text/html": [
       "<div>\n",
       "<style>\n",
       "    .dataframe thead tr:only-child th {\n",
       "        text-align: right;\n",
       "    }\n",
       "\n",
       "    .dataframe thead th {\n",
       "        text-align: left;\n",
       "    }\n",
       "\n",
       "    .dataframe tbody tr th {\n",
       "        vertical-align: top;\n",
       "    }\n",
       "</style>\n",
       "<table border=\"1\" class=\"dataframe\">\n",
       "  <thead>\n",
       "    <tr style=\"text-align: right;\">\n",
       "      <th></th>\n",
       "      <th>Team</th>\n",
       "      <th>Opponent</th>\n",
       "      <th>Team-Score</th>\n",
       "      <th>Opponent-Score</th>\n",
       "      <th>Win</th>\n",
       "      <th>Date</th>\n",
       "      <th>Time</th>\n",
       "      <th>Location</th>\n",
       "      <th>FG</th>\n",
       "      <th>FGA</th>\n",
       "      <th>FG%</th>\n",
       "      <th>3P</th>\n",
       "      <th>3PA</th>\n",
       "      <th>3P%</th>\n",
       "      <th>FT</th>\n",
       "      <th>FTA</th>\n",
       "      <th>FT%</th>\n",
       "      <th>ORB</th>\n",
       "      <th>DRB</th>\n",
       "      <th>TRB</th>\n",
       "      <th>AST</th>\n",
       "      <th>STL</th>\n",
       "      <th>BLK</th>\n",
       "      <th>TOV</th>\n",
       "      <th>PF</th>\n",
       "      <th>TS%</th>\n",
       "      <th>eFG%</th>\n",
       "      <th>3PAr</th>\n",
       "      <th>FTr</th>\n",
       "      <th>ORB%</th>\n",
       "      <th>DRB%</th>\n",
       "      <th>TRB%</th>\n",
       "      <th>AST%</th>\n",
       "      <th>STL%</th>\n",
       "      <th>BLK%</th>\n",
       "      <th>TOV%</th>\n",
       "      <th>ORtg</th>\n",
       "      <th>DRtg</th>\n",
       "    </tr>\n",
       "  </thead>\n",
       "  <tbody>\n",
       "    <tr>\n",
       "      <th>0</th>\n",
       "      <td>Cleveland Cavaliers</td>\n",
       "      <td>Washington Wizards</td>\n",
       "      <td>94</td>\n",
       "      <td>84</td>\n",
       "      <td>1</td>\n",
       "      <td>10/30/12</td>\n",
       "      <td>7:00 PM</td>\n",
       "      <td>Quicken Loans Arena, Cleveland, Ohio</td>\n",
       "      <td>36</td>\n",
       "      <td>79</td>\n",
       "      <td>0.456</td>\n",
       "      <td>7</td>\n",
       "      <td>20</td>\n",
       "      <td>0.35</td>\n",
       "      <td>15</td>\n",
       "      <td>22</td>\n",
       "      <td>0.682</td>\n",
       "      <td>18</td>\n",
       "      <td>36</td>\n",
       "      <td>54</td>\n",
       "      <td>22</td>\n",
       "      <td>7</td>\n",
       "      <td>5</td>\n",
       "      <td>20</td>\n",
       "      <td>21</td>\n",
       "      <td>0.53</td>\n",
       "      <td>0.5</td>\n",
       "      <td>0.253</td>\n",
       "      <td>0.278</td>\n",
       "      <td>46.2</td>\n",
       "      <td>66.7</td>\n",
       "      <td>58.1</td>\n",
       "      <td>61.1</td>\n",
       "      <td>8.0</td>\n",
       "      <td>8.6</td>\n",
       "      <td>18.4</td>\n",
       "      <td>106.9</td>\n",
       "      <td>95.5</td>\n",
       "    </tr>\n",
       "  </tbody>\n",
       "</table>\n",
       "</div>"
      ],
      "text/plain": [
       "                  Team            Opponent  Team-Score  Opponent-Score  Win  \\\n",
       "0  Cleveland Cavaliers  Washington Wizards          94              84    1   \n",
       "\n",
       "       Date     Time                              Location  FG  FGA    FG%  \\\n",
       "0  10/30/12  7:00 PM  Quicken Loans Arena, Cleveland, Ohio  36   79  0.456   \n",
       "\n",
       "   3P  3PA   3P%  FT  FTA    FT%  ORB  DRB  TRB  AST  STL  BLK  TOV  PF   TS%  \\\n",
       "0   7   20  0.35  15   22  0.682   18   36   54   22    7    5   20  21  0.53   \n",
       "\n",
       "   eFG%   3PAr    FTr  ORB%  DRB%  TRB%  AST%  STL%  BLK%  TOV%   ORtg  DRtg  \n",
       "0   0.5  0.253  0.278  46.2  66.7  58.1  61.1   8.0   8.6  18.4  106.9  95.5  "
      ]
     },
     "execution_count": 2,
     "metadata": {},
     "output_type": "execute_result"
    }
   ],
   "source": [
    "# Bring in the data\n",
    "df = pd.read_csv(\"game-data-revised.csv\")\n",
    "df.head(1)"
   ]
  },
  {
   "cell_type": "markdown",
   "metadata": {},
   "source": [
    "### Create 'Seasons' Variable"
   ]
  },
  {
   "cell_type": "code",
   "execution_count": 3,
   "metadata": {},
   "outputs": [],
   "source": [
    "# Prepare the data\n",
    "df.Date = pd.to_datetime(df.Date)"
   ]
  },
  {
   "cell_type": "code",
   "execution_count": 4,
   "metadata": {},
   "outputs": [],
   "source": [
    "position = len(df.columns)\n",
    "df['Season'] = \"\"\n",
    "\n",
    "for i in range(0, len(df)):\n",
    "    # 2012-13 Season: October 30, 2012 - June 20, 2013\n",
    "    if df.iloc[i, 5] >= pd.Timestamp('2012-10-30 00:00:00') and df.iloc[i, 5] <= pd.Timestamp('2013-6-20 00:00:00'):\n",
    "        df.iloc[i, position] = '2012-13'\n",
    "    \n",
    "    # 2013-14 Season: October 29, 2013 - June 15, 2014\n",
    "    elif df.iloc[i, 5] >= pd.Timestamp('2013-10-29 00:00:00') and df.iloc[i, 5] <= pd.Timestamp('2014-6-15 00:00:00'):\n",
    "        df.iloc[i, position] = '2013-14'\n",
    "    \n",
    "    # 2014-15 Season: October 29, 2014 - June 16, 2015\n",
    "    elif df.iloc[i, 5] >= pd.Timestamp('2014-10-28 00:00:00') and df.iloc[i, 5] <= pd.Timestamp('2015-6-16 00:00:00'):\n",
    "        df.iloc[i, position] = '2014-15'\n",
    "    \n",
    "    # 2015-16 Season: October 27, 2015 - June 19, 2016\n",
    "    elif df.iloc[i, 5] >= pd.Timestamp('2015-10-27 00:00:00') and df.iloc[i, 5] <= pd.Timestamp('2016-6-19 00:00:00'):\n",
    "        df.iloc[i, position] = '2015-16'\n",
    "    \n",
    "    # 2016-17 Season: October 25, 2016 - June 12, 2017\n",
    "    elif df.iloc[i, 5] >= pd.Timestamp('2016-10-25 00:00:00') and df.iloc[i, 5] <= pd.Timestamp('2017-6-12 00:00:00'):\n",
    "        df.iloc[i, position] = '2016-17'\n",
    "    else: \n",
    "        df.iloc[i, position] = None"
   ]
  },
  {
   "cell_type": "code",
   "execution_count": 5,
   "metadata": {},
   "outputs": [
    {
     "data": {
      "text/plain": [
       "2013-14    2624\n",
       "2016-17    2592\n",
       "2015-16    2500\n",
       "2012-13    2500\n",
       "2014-15    2498\n",
       "Name: Season, dtype: int64"
      ]
     },
     "execution_count": 5,
     "metadata": {},
     "output_type": "execute_result"
    }
   ],
   "source": [
    "df['Season'].value_counts()"
   ]
  },
  {
   "cell_type": "code",
   "execution_count": 6,
   "metadata": {},
   "outputs": [
    {
     "data": {
      "text/html": [
       "<div>\n",
       "<style>\n",
       "    .dataframe thead tr:only-child th {\n",
       "        text-align: right;\n",
       "    }\n",
       "\n",
       "    .dataframe thead th {\n",
       "        text-align: left;\n",
       "    }\n",
       "\n",
       "    .dataframe tbody tr th {\n",
       "        vertical-align: top;\n",
       "    }\n",
       "</style>\n",
       "<table border=\"1\" class=\"dataframe\">\n",
       "  <thead>\n",
       "    <tr style=\"text-align: right;\">\n",
       "      <th></th>\n",
       "      <th>Team</th>\n",
       "      <th>Opponent</th>\n",
       "      <th>Team-Score</th>\n",
       "      <th>Opponent-Score</th>\n",
       "      <th>Win</th>\n",
       "      <th>Date</th>\n",
       "      <th>Time</th>\n",
       "      <th>Location</th>\n",
       "      <th>FG</th>\n",
       "      <th>FGA</th>\n",
       "      <th>FG%</th>\n",
       "      <th>3P</th>\n",
       "      <th>3PA</th>\n",
       "      <th>3P%</th>\n",
       "      <th>FT</th>\n",
       "      <th>FTA</th>\n",
       "      <th>FT%</th>\n",
       "      <th>ORB</th>\n",
       "      <th>DRB</th>\n",
       "      <th>TRB</th>\n",
       "      <th>AST</th>\n",
       "      <th>STL</th>\n",
       "      <th>BLK</th>\n",
       "      <th>TOV</th>\n",
       "      <th>PF</th>\n",
       "      <th>TS%</th>\n",
       "      <th>eFG%</th>\n",
       "      <th>3PAr</th>\n",
       "      <th>FTr</th>\n",
       "      <th>ORB%</th>\n",
       "      <th>DRB%</th>\n",
       "      <th>TRB%</th>\n",
       "      <th>AST%</th>\n",
       "      <th>STL%</th>\n",
       "      <th>BLK%</th>\n",
       "      <th>TOV%</th>\n",
       "      <th>ORtg</th>\n",
       "      <th>DRtg</th>\n",
       "      <th>Season</th>\n",
       "    </tr>\n",
       "  </thead>\n",
       "  <tbody>\n",
       "    <tr>\n",
       "      <th>0</th>\n",
       "      <td>Cleveland Cavaliers</td>\n",
       "      <td>Washington Wizards</td>\n",
       "      <td>94</td>\n",
       "      <td>84</td>\n",
       "      <td>1</td>\n",
       "      <td>2012-10-30</td>\n",
       "      <td>7:00 PM</td>\n",
       "      <td>Quicken Loans Arena, Cleveland, Ohio</td>\n",
       "      <td>36</td>\n",
       "      <td>79</td>\n",
       "      <td>0.456</td>\n",
       "      <td>7</td>\n",
       "      <td>20</td>\n",
       "      <td>0.35</td>\n",
       "      <td>15</td>\n",
       "      <td>22</td>\n",
       "      <td>0.682</td>\n",
       "      <td>18</td>\n",
       "      <td>36</td>\n",
       "      <td>54</td>\n",
       "      <td>22</td>\n",
       "      <td>7</td>\n",
       "      <td>5</td>\n",
       "      <td>20</td>\n",
       "      <td>21</td>\n",
       "      <td>0.53</td>\n",
       "      <td>0.5</td>\n",
       "      <td>0.253</td>\n",
       "      <td>0.278</td>\n",
       "      <td>46.2</td>\n",
       "      <td>66.7</td>\n",
       "      <td>58.1</td>\n",
       "      <td>61.1</td>\n",
       "      <td>8.0</td>\n",
       "      <td>8.6</td>\n",
       "      <td>18.4</td>\n",
       "      <td>106.9</td>\n",
       "      <td>95.5</td>\n",
       "      <td>2012-13</td>\n",
       "    </tr>\n",
       "  </tbody>\n",
       "</table>\n",
       "</div>"
      ],
      "text/plain": [
       "                  Team            Opponent  Team-Score  Opponent-Score  Win  \\\n",
       "0  Cleveland Cavaliers  Washington Wizards          94              84    1   \n",
       "\n",
       "        Date     Time                              Location  FG  FGA    FG%  \\\n",
       "0 2012-10-30  7:00 PM  Quicken Loans Arena, Cleveland, Ohio  36   79  0.456   \n",
       "\n",
       "   3P  3PA   3P%  FT  FTA    FT%  ORB  DRB  TRB  AST  STL  BLK  TOV  PF   TS%  \\\n",
       "0   7   20  0.35  15   22  0.682   18   36   54   22    7    5   20  21  0.53   \n",
       "\n",
       "   eFG%   3PAr    FTr  ORB%  DRB%  TRB%  AST%  STL%  BLK%  TOV%   ORtg  DRtg  \\\n",
       "0   0.5  0.253  0.278  46.2  66.7  58.1  61.1   8.0   8.6  18.4  106.9  95.5   \n",
       "\n",
       "    Season  \n",
       "0  2012-13  "
      ]
     },
     "execution_count": 6,
     "metadata": {},
     "output_type": "execute_result"
    }
   ],
   "source": [
    "df.head(1)"
   ]
  },
  {
   "cell_type": "markdown",
   "metadata": {},
   "source": [
    "### Create 'Playoff' Game Dummy"
   ]
  },
  {
   "cell_type": "code",
   "execution_count": 7,
   "metadata": {},
   "outputs": [],
   "source": [
    "position = len(df.columns)\n",
    "df['Playoff'] = \"\"\n",
    "\n",
    "for i in range(0, len(df)):\n",
    "    # 2013 Playoffs: April 20 - June 20, 2013\n",
    "    if df.iloc[i, 5] >= pd.Timestamp('2013-4-20 00:00:00') and df.iloc[i, 5] <= pd.Timestamp('2013-6-20 00:00:00'):\n",
    "        df.iloc[i, position] = 1\n",
    "    \n",
    "    # 2014 Playoffs: April 19 - June 15, 2014\n",
    "    elif df.iloc[i, 5] >= pd.Timestamp('2014-4-19 00:00:00') and df.iloc[i, 5] <= pd.Timestamp('2014-6-15 00:00:00'):\n",
    "        df.iloc[i, position] = 1\n",
    "    \n",
    "    # 2015 Playoffs: April 18 - June 16, 2015\n",
    "    elif df.iloc[i, 5] >= pd.Timestamp('2015-4-18 00:00:00') and df.iloc[i, 5] <= pd.Timestamp('2015-6-16 00:00:00'):\n",
    "        df.iloc[i, position] = 1\n",
    "    \n",
    "    # 2016 Playoffs: April 16 - June 19, 2016\n",
    "    elif df.iloc[i, 5] >= pd.Timestamp('2016-4-16 00:00:00') and df.iloc[i, 5] <= pd.Timestamp('2016-6-19 00:00:00'):\n",
    "        df.iloc[i, position] = 1\n",
    "    \n",
    "    # 2017 Playoffs: April 15 - June 12, 2017\n",
    "    elif df.iloc[i, 5] >= pd.Timestamp('2017-4-15 00:00:00') and df.iloc[i, 5] <= pd.Timestamp('2017-6-12 00:00:00'):\n",
    "        df.iloc[i, position] = 1\n",
    "    else: \n",
    "        df.iloc[i, position] = 0"
   ]
  },
  {
   "cell_type": "code",
   "execution_count": 8,
   "metadata": {},
   "outputs": [
    {
     "data": {
      "text/plain": [
       "0    11878\n",
       "1      836\n",
       "Name: Playoff, dtype: int64"
      ]
     },
     "execution_count": 8,
     "metadata": {},
     "output_type": "execute_result"
    }
   ],
   "source": [
    "df['Playoff'].value_counts()"
   ]
  },
  {
   "cell_type": "markdown",
   "metadata": {},
   "source": [
    "### Create 'Home/Away' Dummy"
   ]
  },
  {
   "cell_type": "code",
   "execution_count": 9,
   "metadata": {},
   "outputs": [],
   "source": [
    "position = len(df.columns)\n",
    "df['Home'] = \"\"\n",
    "\n",
    "for i in range(0, len(df)):\n",
    "    if (df.iloc[i, 0] == \"Cleveland Cavaliers\") and (df.iloc[i, 7] == \"Quicken Loans Arena, Cleveland, Ohio\"):\n",
    "        df.iloc[i, position] = 1\n",
    "    elif df.iloc[i, 0] == \"Los Angeles Lakers\" and df.iloc[i, 7] == \"STAPLES Center, Los Angeles, California\":\n",
    "        df.iloc[i, position] = 1\n",
    "    elif df.iloc[i, 0] == \"Dallas Mavericks\" and df.iloc[i, 7] == \"American Airlines Center, Dallas, Texas\":\n",
    "        df.iloc[i, position] = 1\n",
    "    elif df.iloc[i, 0] == \"Miami Heat\" and df.iloc[i, 7] == \"AmericanAirlines Arena, Miami, Florida\":\n",
    "        df.iloc[i, position] = 1\n",
    "    elif df.iloc[i, 0] == \"Washington Wizards\" and df.iloc[i, 7] == \"Verizon Center, Washington, District of Columbia\":\n",
    "        df.iloc[i, position] = 1\n",
    "    elif df.iloc[i, 0] == \"Boston Celtics\" and df.iloc[i, 7] == \"TD Garden, Boston, Massachusetts\":\n",
    "        df.iloc[i, position] = 1\n",
    "    elif df.iloc[i, 0] == \"Philadelphia 76ers\" and df.iloc[i, 7] == \"Wells Fargo Center, Philadelphia, Pennsylvania\":\n",
    "        df.iloc[i, position] = 1\n",
    "    elif df.iloc[i, 0] == \"Denver Nuggets\" and df.iloc[i, 7] == \"Pepsi Center, Denver, Colorado\":\n",
    "        df.iloc[i, position] = 1\n",
    "    elif df.iloc[i, 0] == \"Phoenix Suns\" and df.iloc[i, 7] == \"US Airways Center, Phoenix, Arizona\":\n",
    "        df.iloc[i, position] = 1\n",
    "    elif df.iloc[i, 0] == \"Golden State Warriors\" and df.iloc[i, 7] == \"Oracle Arena, Oakland, California\":\n",
    "        df.iloc[i, position] = 1\n",
    "    elif df.iloc[i, 0] == \"Sacramento Kings\" and df.iloc[i, 7] == \"Sleep Train Arena, Sacramento, California\":\n",
    "        df.iloc[i, position] = 1\n",
    "    elif df.iloc[i, 0] == \"Chicago Bulls\" and df.iloc[i, 7] == \"United Center, Chicago, Illinois\":\n",
    "        df.iloc[i, position] = 1\n",
    "    elif df.iloc[i, 0] == \"New Orleans Hornets\" and df.iloc[i, 7] == \"New Orleans Arena, New Orleans, Louisiana\":\n",
    "        df.iloc[i, position] = 1\n",
    "    elif df.iloc[i, 0] == \"San Antonio Spurs\" and df.iloc[i, 7] == \"AT&T Center, San Antonio, Texas\":\n",
    "        df.iloc[i, position] = 1\n",
    "    elif df.iloc[i, 0] == \"Utah Jazz\" and df.iloc[i, 7] == \"EnergySolutions Arena, Salt Lake City, Utah\":\n",
    "        df.iloc[i, position] = 1\n",
    "    elif df.iloc[i, 0] == \"Toronto Raptors\" and df.iloc[i, 7] == \"Air Canada Centre, Toronto, Canada\":\n",
    "        df.iloc[i, position] = 1\n",
    "    elif df.iloc[i, 0] == \"Indiana Pacers\" and df.iloc[i, 7] == \"Bankers Life Fieldhouse, Indianapolis, Indiana\":\n",
    "        df.iloc[i, position] = 1\n",
    "    elif df.iloc[i, 0] == \"Detroit Pistons\" and df.iloc[i, 7] == \"The Palace of Auburn Hills, Auburn Hills, Michigan\":\n",
    "        df.iloc[i, position] = 1\n",
    "    elif df.iloc[i, 0] == \"Houston Rockets\" and df.iloc[i, 7] == \"Toyota Center, Houston, Texas\":\n",
    "        df.iloc[i, position] = 1\n",
    "    elif df.iloc[i, 0] == \"Memphis Grizzlies\" and df.iloc[i, 7] == \"FedEx Forum, Memphis, Tennessee\":\n",
    "        df.iloc[i, position] = 1\n",
    "    elif df.iloc[i, 0] == \"Los Angeles Clippers\" and df.iloc[i, 7] == \"STAPLES Center, Los Angeles, California\":\n",
    "        df.iloc[i, position] = 1\n",
    "    elif df.iloc[i, 0] == \"Portland Trail Blazers\" and df.iloc[i, 7] == \"Rose Garden Arena, Portland, Oregon\":\n",
    "        df.iloc[i, position] = 1\n",
    "    elif df.iloc[i, 0] == \"Oklahoma City Thunder\" and df.iloc[i, 7] == \"Chesapeake Energy Arena, Oklahoma City, Oklahoma\":\n",
    "        df.iloc[i, position] = 1\n",
    "    elif df.iloc[i, 0] == \"Charlotte Bobcats\" and df.iloc[i, 7] == \"Time Warner Cable Arena, Charlotte, North Carolina\":\n",
    "        df.iloc[i, position] = 1\n",
    "    elif df.iloc[i, 0] == \"Minnesota Timberwolves\" and df.iloc[i, 7] == \"Target Center, Minneapolis, Minnesota\":\n",
    "        df.iloc[i, position] = 1\n",
    "    elif df.iloc[i, 0] == \"Orlando Magic\" and df.iloc[i, 7] == \"Amway Center, Orlando, Florida\":\n",
    "        df.iloc[i, position] = 1\n",
    "    elif df.iloc[i, 0] == \"Milwaukee Bucks\" and df.iloc[i, 7] == \"BMO Harris Bradley Center, Milwaukee, Wisconsin\":\n",
    "        df.iloc[i, position] = 1\n",
    "    elif df.iloc[i, 0] == \"New York Knicks\" and df.iloc[i, 7] == \"Madison Square Garden (IV), New York, New York\":\n",
    "        df.iloc[i, position] = 1\n",
    "    elif df.iloc[i, 0] == \"Brooklyn Nets\" and df.iloc[i, 7] == \"Barclays Center, Brooklyn, New York\":\n",
    "        df.iloc[i, position] = 1\n",
    "    elif df.iloc[i, 0] == \"Atlanta Hawks\" and df.iloc[i, 7] == \"Philips Arena, Atlanta, Georgia\":\n",
    "        df.iloc[i, position] = 1\n",
    "    else:\n",
    "        df.iloc[i, position] = 0"
   ]
  },
  {
   "cell_type": "code",
   "execution_count": 10,
   "metadata": {},
   "outputs": [
    {
     "data": {
      "text/plain": [
       "0    7009\n",
       "1    5705\n",
       "Name: Home, dtype: int64"
      ]
     },
     "execution_count": 10,
     "metadata": {},
     "output_type": "execute_result"
    }
   ],
   "source": [
    "df['Home'].value_counts()"
   ]
  },
  {
   "cell_type": "markdown",
   "metadata": {},
   "source": [
    "### Filter by Season"
   ]
  },
  {
   "cell_type": "code",
   "execution_count": 11,
   "metadata": {},
   "outputs": [],
   "source": [
    "# Regular Season (Non-Playoff) Games\n",
    "df_12_13 = df[(df.Season == \"2012-13\") & (df.Playoff == 0)]\n",
    "df_13_14 = df[(df.Season == \"2013-14\") & (df.Playoff == 0)]\n",
    "df_14_15 = df[(df.Season == \"2014-15\") & (df.Playoff == 0)]\n",
    "df_15_16 = df[(df.Season == \"2015-16\") & (df.Playoff == 0)]\n",
    "df_16_17 = df[(df.Season == \"2016-17\") & (df.Playoff == 0)]"
   ]
  },
  {
   "cell_type": "code",
   "execution_count": 12,
   "metadata": {},
   "outputs": [
    {
     "data": {
      "text/html": [
       "<div>\n",
       "<style>\n",
       "    .dataframe thead tr:only-child th {\n",
       "        text-align: right;\n",
       "    }\n",
       "\n",
       "    .dataframe thead th {\n",
       "        text-align: left;\n",
       "    }\n",
       "\n",
       "    .dataframe tbody tr th {\n",
       "        vertical-align: top;\n",
       "    }\n",
       "</style>\n",
       "<table border=\"1\" class=\"dataframe\">\n",
       "  <thead>\n",
       "    <tr style=\"text-align: right;\">\n",
       "      <th></th>\n",
       "      <th>Team</th>\n",
       "      <th>Opponent</th>\n",
       "      <th>Team-Score</th>\n",
       "      <th>Opponent-Score</th>\n",
       "      <th>Win</th>\n",
       "      <th>Date</th>\n",
       "      <th>Time</th>\n",
       "      <th>Location</th>\n",
       "      <th>FG</th>\n",
       "      <th>FGA</th>\n",
       "      <th>FG%</th>\n",
       "      <th>3P</th>\n",
       "      <th>3PA</th>\n",
       "      <th>3P%</th>\n",
       "      <th>FT</th>\n",
       "      <th>FTA</th>\n",
       "      <th>FT%</th>\n",
       "      <th>ORB</th>\n",
       "      <th>DRB</th>\n",
       "      <th>TRB</th>\n",
       "      <th>AST</th>\n",
       "      <th>STL</th>\n",
       "      <th>BLK</th>\n",
       "      <th>TOV</th>\n",
       "      <th>PF</th>\n",
       "      <th>TS%</th>\n",
       "      <th>eFG%</th>\n",
       "      <th>3PAr</th>\n",
       "      <th>FTr</th>\n",
       "      <th>ORB%</th>\n",
       "      <th>DRB%</th>\n",
       "      <th>TRB%</th>\n",
       "      <th>AST%</th>\n",
       "      <th>STL%</th>\n",
       "      <th>BLK%</th>\n",
       "      <th>TOV%</th>\n",
       "      <th>ORtg</th>\n",
       "      <th>DRtg</th>\n",
       "      <th>Season</th>\n",
       "      <th>Playoff</th>\n",
       "      <th>Home</th>\n",
       "    </tr>\n",
       "  </thead>\n",
       "  <tbody>\n",
       "    <tr>\n",
       "      <th>10122</th>\n",
       "      <td>San Antonio Spurs</td>\n",
       "      <td>Golden State Warriors</td>\n",
       "      <td>129</td>\n",
       "      <td>100</td>\n",
       "      <td>1</td>\n",
       "      <td>2016-10-25</td>\n",
       "      <td>10:30 PM</td>\n",
       "      <td>Oracle Arena, Oakland, California</td>\n",
       "      <td>47</td>\n",
       "      <td>98</td>\n",
       "      <td>0.48</td>\n",
       "      <td>12</td>\n",
       "      <td>24</td>\n",
       "      <td>0.5</td>\n",
       "      <td>23</td>\n",
       "      <td>26</td>\n",
       "      <td>0.885</td>\n",
       "      <td>21</td>\n",
       "      <td>34</td>\n",
       "      <td>55</td>\n",
       "      <td>25</td>\n",
       "      <td>13</td>\n",
       "      <td>3</td>\n",
       "      <td>13</td>\n",
       "      <td>19</td>\n",
       "      <td>0.589</td>\n",
       "      <td>0.541</td>\n",
       "      <td>0.245</td>\n",
       "      <td>0.265</td>\n",
       "      <td>43.8</td>\n",
       "      <td>81.0</td>\n",
       "      <td>61.1</td>\n",
       "      <td>53.2</td>\n",
       "      <td>13.2</td>\n",
       "      <td>5.8</td>\n",
       "      <td>10.6</td>\n",
       "      <td>131.3</td>\n",
       "      <td>101.8</td>\n",
       "      <td>2016-17</td>\n",
       "      <td>0</td>\n",
       "      <td>0</td>\n",
       "    </tr>\n",
       "  </tbody>\n",
       "</table>\n",
       "</div>"
      ],
      "text/plain": [
       "                    Team               Opponent  Team-Score  Opponent-Score  \\\n",
       "10122  San Antonio Spurs  Golden State Warriors         129             100   \n",
       "\n",
       "       Win       Date      Time                           Location  FG  FGA  \\\n",
       "10122    1 2016-10-25  10:30 PM  Oracle Arena, Oakland, California  47   98   \n",
       "\n",
       "        FG%  3P  3PA  3P%  FT  FTA    FT%  ORB  DRB  TRB  AST  STL  BLK  TOV  \\\n",
       "10122  0.48  12   24  0.5  23   26  0.885   21   34   55   25   13    3   13   \n",
       "\n",
       "       PF    TS%   eFG%   3PAr    FTr  ORB%  DRB%  TRB%  AST%  STL%  BLK%  \\\n",
       "10122  19  0.589  0.541  0.245  0.265  43.8  81.0  61.1  53.2  13.2   5.8   \n",
       "\n",
       "       TOV%   ORtg   DRtg   Season Playoff Home  \n",
       "10122  10.6  131.3  101.8  2016-17       0    0  "
      ]
     },
     "execution_count": 12,
     "metadata": {},
     "output_type": "execute_result"
    }
   ],
   "source": [
    "df_16_17.head(1)"
   ]
  },
  {
   "cell_type": "code",
   "execution_count": 13,
   "metadata": {},
   "outputs": [],
   "source": [
    "# Write to CSV\n",
    "df_12_13.to_csv(\"df_12_13.csv\", index = False)\n",
    "df_13_14.to_csv(\"df_13_14.csv\", index = False)\n",
    "df_14_15.to_csv(\"df_14_15.csv\", index = False)\n",
    "df_15_16.to_csv(\"df_15_16.csv\", index = False)\n",
    "df_16_17.to_csv(\"df_16_17.csv\", index = False)"
   ]
  },
  {
   "cell_type": "code",
   "execution_count": 14,
   "metadata": {},
   "outputs": [],
   "source": [
    "df_12_13 = pd.read_csv(\"df_12_13.csv\")\n",
    "df_13_14 = pd.read_csv(\"df_13_14.csv\")\n",
    "df_14_15 = pd.read_csv(\"df_14_15.csv\")\n",
    "df_15_16 = pd.read_csv(\"df_15_16.csv\")\n",
    "df_16_17 = pd.read_csv(\"df_16_17.csv\")"
   ]
  },
  {
   "cell_type": "code",
   "execution_count": 15,
   "metadata": {},
   "outputs": [
    {
     "data": {
      "text/html": [
       "<div>\n",
       "<style>\n",
       "    .dataframe thead tr:only-child th {\n",
       "        text-align: right;\n",
       "    }\n",
       "\n",
       "    .dataframe thead th {\n",
       "        text-align: left;\n",
       "    }\n",
       "\n",
       "    .dataframe tbody tr th {\n",
       "        vertical-align: top;\n",
       "    }\n",
       "</style>\n",
       "<table border=\"1\" class=\"dataframe\">\n",
       "  <thead>\n",
       "    <tr style=\"text-align: right;\">\n",
       "      <th></th>\n",
       "      <th>Team</th>\n",
       "      <th>Opponent</th>\n",
       "      <th>Team-Score</th>\n",
       "      <th>Opponent-Score</th>\n",
       "      <th>Win</th>\n",
       "      <th>Date</th>\n",
       "      <th>Time</th>\n",
       "      <th>Location</th>\n",
       "      <th>FG</th>\n",
       "      <th>FGA</th>\n",
       "      <th>FG%</th>\n",
       "      <th>3P</th>\n",
       "      <th>3PA</th>\n",
       "      <th>3P%</th>\n",
       "      <th>FT</th>\n",
       "      <th>FTA</th>\n",
       "      <th>FT%</th>\n",
       "      <th>ORB</th>\n",
       "      <th>DRB</th>\n",
       "      <th>TRB</th>\n",
       "      <th>AST</th>\n",
       "      <th>STL</th>\n",
       "      <th>BLK</th>\n",
       "      <th>TOV</th>\n",
       "      <th>PF</th>\n",
       "      <th>TS%</th>\n",
       "      <th>eFG%</th>\n",
       "      <th>3PAr</th>\n",
       "      <th>FTr</th>\n",
       "      <th>ORB%</th>\n",
       "      <th>DRB%</th>\n",
       "      <th>TRB%</th>\n",
       "      <th>AST%</th>\n",
       "      <th>STL%</th>\n",
       "      <th>BLK%</th>\n",
       "      <th>TOV%</th>\n",
       "      <th>ORtg</th>\n",
       "      <th>DRtg</th>\n",
       "      <th>Season</th>\n",
       "      <th>Playoff</th>\n",
       "      <th>Home</th>\n",
       "    </tr>\n",
       "  </thead>\n",
       "  <tbody>\n",
       "    <tr>\n",
       "      <th>0</th>\n",
       "      <td>Cleveland Cavaliers</td>\n",
       "      <td>Washington Wizards</td>\n",
       "      <td>94</td>\n",
       "      <td>84</td>\n",
       "      <td>1</td>\n",
       "      <td>2012-10-30</td>\n",
       "      <td>7:00 PM</td>\n",
       "      <td>Quicken Loans Arena, Cleveland, Ohio</td>\n",
       "      <td>36</td>\n",
       "      <td>79</td>\n",
       "      <td>0.456</td>\n",
       "      <td>7</td>\n",
       "      <td>20</td>\n",
       "      <td>0.35</td>\n",
       "      <td>15</td>\n",
       "      <td>22</td>\n",
       "      <td>0.682</td>\n",
       "      <td>18</td>\n",
       "      <td>36</td>\n",
       "      <td>54</td>\n",
       "      <td>22</td>\n",
       "      <td>7</td>\n",
       "      <td>5</td>\n",
       "      <td>20</td>\n",
       "      <td>21</td>\n",
       "      <td>0.53</td>\n",
       "      <td>0.5</td>\n",
       "      <td>0.253</td>\n",
       "      <td>0.278</td>\n",
       "      <td>46.2</td>\n",
       "      <td>66.7</td>\n",
       "      <td>58.1</td>\n",
       "      <td>61.1</td>\n",
       "      <td>8.0</td>\n",
       "      <td>8.6</td>\n",
       "      <td>18.4</td>\n",
       "      <td>106.9</td>\n",
       "      <td>95.5</td>\n",
       "      <td>2012-13</td>\n",
       "      <td>0</td>\n",
       "      <td>1</td>\n",
       "    </tr>\n",
       "  </tbody>\n",
       "</table>\n",
       "</div>"
      ],
      "text/plain": [
       "                  Team            Opponent  Team-Score  Opponent-Score  Win  \\\n",
       "0  Cleveland Cavaliers  Washington Wizards          94              84    1   \n",
       "\n",
       "         Date     Time                              Location  FG  FGA    FG%  \\\n",
       "0  2012-10-30  7:00 PM  Quicken Loans Arena, Cleveland, Ohio  36   79  0.456   \n",
       "\n",
       "   3P  3PA   3P%  FT  FTA    FT%  ORB  DRB  TRB  AST  STL  BLK  TOV  PF   TS%  \\\n",
       "0   7   20  0.35  15   22  0.682   18   36   54   22    7    5   20  21  0.53   \n",
       "\n",
       "   eFG%   3PAr    FTr  ORB%  DRB%  TRB%  AST%  STL%  BLK%  TOV%   ORtg  DRtg  \\\n",
       "0   0.5  0.253  0.278  46.2  66.7  58.1  61.1   8.0   8.6  18.4  106.9  95.5   \n",
       "\n",
       "    Season  Playoff  Home  \n",
       "0  2012-13        0     1  "
      ]
     },
     "execution_count": 15,
     "metadata": {},
     "output_type": "execute_result"
    }
   ],
   "source": [
    "df_12_13.head(1)"
   ]
  },
  {
   "cell_type": "markdown",
   "metadata": {},
   "source": [
    "### Create Team Clusters by Season"
   ]
  },
  {
   "cell_type": "code",
   "execution_count": 16,
   "metadata": {},
   "outputs": [],
   "source": [
    "#Packages for Kmeans\n",
    "from sklearn.cluster import KMeans, AgglomerativeClustering\n",
    "from sklearn import preprocessing\n",
    "from sklearn.metrics import homogeneity_score\n",
    "from sklearn.metrics import silhouette_score\n",
    "from collections import Counter"
   ]
  },
  {
   "cell_type": "code",
   "execution_count": 17,
   "metadata": {},
   "outputs": [],
   "source": [
    "def find_majority(votes):\n",
    "    vote_count = Counter(votes)\n",
    "    top_two = vote_count.most_common(2)\n",
    "    if len(top_two)>1 and top_two[0][1] == top_two[1][1]:\n",
    "        # It is a tie\n",
    "        return top_two[0][0]\n",
    "    return top_two[0][0]\n",
    "\n",
    "def get_clusters(dataframe, number_of_clusters):\n",
    "    # Prepare the data\n",
    "    Team_Name = dataframe[\"Team\"]\n",
    "    Opponent_Name = dataframe[\"Opponent\"]\n",
    "    dataframe = dataframe.drop(['FG%', '3P%', 'FT%', 'TS%', 'eFG%', 'ORB%', 'DRB%', 'BLK%', 'TOV%', 'ORtg', 'Team-Score', 'Opponent-Score', 'Win', 'Season', 'Location', 'Date', 'Time', 'Team', 'Opponent'], axis=1)\n",
    "    #dataframe = dataframe.drop(['Team', 'Opponent', 'Date', 'Time', 'Location', 'Season', 'Playoff', 'Team', 'Opponent'], axis=1)\n",
    "    \n",
    "    # Create the clusters\n",
    "    kmeans_model = KMeans(n_clusters = number_of_clusters, n_init = 5, n_jobs = 1).fit(dataframe)\n",
    "    labels = kmeans_model.labels_\n",
    "    \n",
    "    # Create the dataframe\n",
    "    dataframe['Clusters'] = labels\n",
    "    teams = Team_Name.unique()\n",
    "    clusters = []\n",
    "    for team in teams:\n",
    "        clusters.append(find_majority(dataframe.iloc[Team_Name[Team_Name==team].index]['Clusters']))\n",
    "    \n",
    "    cluster_df = pd.DataFrame(list(map(list, zip(teams,clusters))), columns = ['Team', 'Cluster'])\n",
    "    cluster_df = cluster_df.sort_values(by='Cluster', ascending = True)\n",
    "    cluster_df = cluster_df.reset_index(drop=True)\n",
    "    \n",
    "    return cluster_df"
   ]
  },
  {
   "cell_type": "code",
   "execution_count": 18,
   "metadata": {},
   "outputs": [],
   "source": [
    "dataframes = [df_12_13, df_13_14, df_14_15, df_15_16, df_16_17]\n",
    "data = pd.DataFrame(columns = ['Team', 'Cluster'])\n",
    "year = 2012\n",
    "\n",
    "for dataframe in dataframes:\n",
    "    temp = get_clusters(dataframe, 8)\n",
    "    temp[\"Year\"] = str(year)\n",
    "    year = year + 1\n",
    "    data= data.append(temp, ignore_index=True)"
   ]
  },
  {
   "cell_type": "code",
   "execution_count": 19,
   "metadata": {},
   "outputs": [
    {
     "data": {
      "text/html": [
       "<div>\n",
       "<style>\n",
       "    .dataframe thead tr:only-child th {\n",
       "        text-align: right;\n",
       "    }\n",
       "\n",
       "    .dataframe thead th {\n",
       "        text-align: left;\n",
       "    }\n",
       "\n",
       "    .dataframe tbody tr th {\n",
       "        vertical-align: top;\n",
       "    }\n",
       "</style>\n",
       "<table border=\"1\" class=\"dataframe\">\n",
       "  <thead>\n",
       "    <tr style=\"text-align: right;\">\n",
       "      <th></th>\n",
       "      <th>Cluster</th>\n",
       "      <th>Team</th>\n",
       "      <th>Year</th>\n",
       "    </tr>\n",
       "  </thead>\n",
       "  <tbody>\n",
       "    <tr>\n",
       "      <th>104</th>\n",
       "      <td>3</td>\n",
       "      <td>Portland Trail Blazers</td>\n",
       "      <td>2015</td>\n",
       "    </tr>\n",
       "    <tr>\n",
       "      <th>105</th>\n",
       "      <td>3</td>\n",
       "      <td>Sacramento Kings</td>\n",
       "      <td>2015</td>\n",
       "    </tr>\n",
       "    <tr>\n",
       "      <th>106</th>\n",
       "      <td>3</td>\n",
       "      <td>Phoenix Suns</td>\n",
       "      <td>2015</td>\n",
       "    </tr>\n",
       "  </tbody>\n",
       "</table>\n",
       "</div>"
      ],
      "text/plain": [
       "    Cluster                    Team  Year\n",
       "104       3  Portland Trail Blazers  2015\n",
       "105       3        Sacramento Kings  2015\n",
       "106       3            Phoenix Suns  2015"
      ]
     },
     "execution_count": 19,
     "metadata": {},
     "output_type": "execute_result"
    }
   ],
   "source": [
    "data[(data.Cluster == 3) & (data.Year == \"2015\")]"
   ]
  },
  {
   "cell_type": "code",
   "execution_count": 20,
   "metadata": {},
   "outputs": [
    {
     "data": {
      "text/html": [
       "<div>\n",
       "<style>\n",
       "    .dataframe thead tr:only-child th {\n",
       "        text-align: right;\n",
       "    }\n",
       "\n",
       "    .dataframe thead th {\n",
       "        text-align: left;\n",
       "    }\n",
       "\n",
       "    .dataframe tbody tr th {\n",
       "        vertical-align: top;\n",
       "    }\n",
       "</style>\n",
       "<table border=\"1\" class=\"dataframe\">\n",
       "  <thead>\n",
       "    <tr style=\"text-align: right;\">\n",
       "      <th></th>\n",
       "      <th>Team</th>\n",
       "      <th>Cluster</th>\n",
       "    </tr>\n",
       "  </thead>\n",
       "  <tbody>\n",
       "    <tr>\n",
       "      <th>0</th>\n",
       "      <td>Cleveland Cavaliers</td>\n",
       "      <td>0</td>\n",
       "    </tr>\n",
       "    <tr>\n",
       "      <th>1</th>\n",
       "      <td>Brooklyn Nets</td>\n",
       "      <td>0</td>\n",
       "    </tr>\n",
       "    <tr>\n",
       "      <th>2</th>\n",
       "      <td>Atlanta Hawks</td>\n",
       "      <td>0</td>\n",
       "    </tr>\n",
       "    <tr>\n",
       "      <th>3</th>\n",
       "      <td>New York Knicks</td>\n",
       "      <td>0</td>\n",
       "    </tr>\n",
       "    <tr>\n",
       "      <th>4</th>\n",
       "      <td>Milwaukee Bucks</td>\n",
       "      <td>0</td>\n",
       "    </tr>\n",
       "    <tr>\n",
       "      <th>5</th>\n",
       "      <td>Minnesota Timberwolves</td>\n",
       "      <td>0</td>\n",
       "    </tr>\n",
       "    <tr>\n",
       "      <th>6</th>\n",
       "      <td>Memphis Grizzlies</td>\n",
       "      <td>0</td>\n",
       "    </tr>\n",
       "    <tr>\n",
       "      <th>7</th>\n",
       "      <td>Detroit Pistons</td>\n",
       "      <td>0</td>\n",
       "    </tr>\n",
       "    <tr>\n",
       "      <th>8</th>\n",
       "      <td>Toronto Raptors</td>\n",
       "      <td>0</td>\n",
       "    </tr>\n",
       "    <tr>\n",
       "      <th>9</th>\n",
       "      <td>New Orleans Hornets</td>\n",
       "      <td>0</td>\n",
       "    </tr>\n",
       "    <tr>\n",
       "      <th>10</th>\n",
       "      <td>Sacramento Kings</td>\n",
       "      <td>0</td>\n",
       "    </tr>\n",
       "    <tr>\n",
       "      <th>11</th>\n",
       "      <td>Phoenix Suns</td>\n",
       "      <td>0</td>\n",
       "    </tr>\n",
       "    <tr>\n",
       "      <th>12</th>\n",
       "      <td>New Orleans Pelicans</td>\n",
       "      <td>0</td>\n",
       "    </tr>\n",
       "    <tr>\n",
       "      <th>13</th>\n",
       "      <td>Portland Trail Blazers</td>\n",
       "      <td>0</td>\n",
       "    </tr>\n",
       "    <tr>\n",
       "      <th>14</th>\n",
       "      <td>Denver Nuggets</td>\n",
       "      <td>0</td>\n",
       "    </tr>\n",
       "    <tr>\n",
       "      <th>15</th>\n",
       "      <td>Houston Rockets</td>\n",
       "      <td>0</td>\n",
       "    </tr>\n",
       "    <tr>\n",
       "      <th>16</th>\n",
       "      <td>Dallas Mavericks</td>\n",
       "      <td>0</td>\n",
       "    </tr>\n",
       "    <tr>\n",
       "      <th>17</th>\n",
       "      <td>Miami Heat</td>\n",
       "      <td>0</td>\n",
       "    </tr>\n",
       "    <tr>\n",
       "      <th>18</th>\n",
       "      <td>Washington Wizards</td>\n",
       "      <td>0</td>\n",
       "    </tr>\n",
       "    <tr>\n",
       "      <th>19</th>\n",
       "      <td>Los Angeles Lakers</td>\n",
       "      <td>0</td>\n",
       "    </tr>\n",
       "    <tr>\n",
       "      <th>20</th>\n",
       "      <td>Boston Celtics</td>\n",
       "      <td>0</td>\n",
       "    </tr>\n",
       "    <tr>\n",
       "      <th>21</th>\n",
       "      <td>Charlotte Hornets</td>\n",
       "      <td>0</td>\n",
       "    </tr>\n",
       "    <tr>\n",
       "      <th>22</th>\n",
       "      <td>Golden State Warriors</td>\n",
       "      <td>0</td>\n",
       "    </tr>\n",
       "    <tr>\n",
       "      <th>23</th>\n",
       "      <td>Chicago Bulls</td>\n",
       "      <td>0</td>\n",
       "    </tr>\n",
       "    <tr>\n",
       "      <th>24</th>\n",
       "      <td>San Antonio Spurs</td>\n",
       "      <td>0</td>\n",
       "    </tr>\n",
       "    <tr>\n",
       "      <th>25</th>\n",
       "      <td>Utah Jazz</td>\n",
       "      <td>0</td>\n",
       "    </tr>\n",
       "    <tr>\n",
       "      <th>26</th>\n",
       "      <td>Indiana Pacers</td>\n",
       "      <td>0</td>\n",
       "    </tr>\n",
       "    <tr>\n",
       "      <th>27</th>\n",
       "      <td>Philadelphia 76ers</td>\n",
       "      <td>0</td>\n",
       "    </tr>\n",
       "    <tr>\n",
       "      <th>28</th>\n",
       "      <td>Charlotte Bobcats</td>\n",
       "      <td>4</td>\n",
       "    </tr>\n",
       "    <tr>\n",
       "      <th>29</th>\n",
       "      <td>Los Angeles Clippers</td>\n",
       "      <td>6</td>\n",
       "    </tr>\n",
       "    <tr>\n",
       "      <th>30</th>\n",
       "      <td>Orlando Magic</td>\n",
       "      <td>6</td>\n",
       "    </tr>\n",
       "    <tr>\n",
       "      <th>31</th>\n",
       "      <td>Oklahoma City Thunder</td>\n",
       "      <td>7</td>\n",
       "    </tr>\n",
       "  </tbody>\n",
       "</table>\n",
       "</div>"
      ],
      "text/plain": [
       "                      Team  Cluster\n",
       "0      Cleveland Cavaliers        0\n",
       "1            Brooklyn Nets        0\n",
       "2            Atlanta Hawks        0\n",
       "3          New York Knicks        0\n",
       "4          Milwaukee Bucks        0\n",
       "5   Minnesota Timberwolves        0\n",
       "6        Memphis Grizzlies        0\n",
       "7          Detroit Pistons        0\n",
       "8          Toronto Raptors        0\n",
       "9      New Orleans Hornets        0\n",
       "10        Sacramento Kings        0\n",
       "11            Phoenix Suns        0\n",
       "12    New Orleans Pelicans        0\n",
       "13  Portland Trail Blazers        0\n",
       "14          Denver Nuggets        0\n",
       "15         Houston Rockets        0\n",
       "16        Dallas Mavericks        0\n",
       "17              Miami Heat        0\n",
       "18      Washington Wizards        0\n",
       "19      Los Angeles Lakers        0\n",
       "20          Boston Celtics        0\n",
       "21       Charlotte Hornets        0\n",
       "22   Golden State Warriors        0\n",
       "23           Chicago Bulls        0\n",
       "24       San Antonio Spurs        0\n",
       "25               Utah Jazz        0\n",
       "26          Indiana Pacers        0\n",
       "27      Philadelphia 76ers        0\n",
       "28       Charlotte Bobcats        4\n",
       "29    Los Angeles Clippers        6\n",
       "30           Orlando Magic        6\n",
       "31   Oklahoma City Thunder        7"
      ]
     },
     "execution_count": 20,
     "metadata": {},
     "output_type": "execute_result"
    }
   ],
   "source": [
    "# Cluster teams using ALL seasons\n",
    "frames = [df_12_13, df_13_14, df_14_15, df_15_16, df_16_17]\n",
    "all_seasons = pd.concat(frames)\n",
    "get_clusters(all_seasons, 8)"
   ]
  },
  {
   "cell_type": "markdown",
   "metadata": {},
   "source": [
    "### Combine & Get Averages"
   ]
  },
  {
   "cell_type": "code",
   "execution_count": 82,
   "metadata": {},
   "outputs": [],
   "source": [
    "### REVISED APRIL 2, 2018 ###\n",
    "def nba_jam(dataframe, number_of_games):\n",
    "    games = []\n",
    "    for i in range(0, len(dataframe)):\n",
    "        team_df = dataframe[(dataframe.Team == dataframe.iloc[i,0]) & (dataframe.Date <= dataframe.iloc[i,5])].sort_values(by='Date', ascending = True).iloc[-number_of_games:]\n",
    "        opponent_df = dataframe[(dataframe.Team == dataframe.iloc[i,1]) & (dataframe.Date <= dataframe.iloc[i,5])].sort_values(by='Date', ascending = True).iloc[-number_of_games:]\n",
    "        \n",
    "        if len(team_df) > 1 and len(opponent_df) > 1:\n",
    "            \n",
    "            # Team Data\n",
    "            attributes = []\n",
    "            metrics = []\n",
    "            team_current_game = team_df.iloc[-1:]\n",
    "            team_df = team_df.drop(team_df.index[-1:])\n",
    "            \n",
    "            for column in team_df.columns:\n",
    "                if column == 'Team' or column == 'Opponent' or column == 'Date' or column == 'Time' or column == 'Location' or column == 'Season' or column == 'Playoff' or column == 'Home' or column == 'Win':\n",
    "                    attributes.append(team_current_game.iloc[0][column])\n",
    "                else:\n",
    "                    metrics.append(np.mean(team_df[column]))\n",
    "            team = attributes + metrics\n",
    "            \n",
    "            # Opponent Data\n",
    "            opponent = [] \n",
    "            opponent_df = opponent_df.drop(opponent_df.index[-1:])\n",
    "        \n",
    "            for column in opponent_df.columns:\n",
    "                if column == 'Team' or column == 'Opponent' or column == 'Date' or column == 'Time' or column == 'Location' or column == 'Season' or column == 'Playoff' or column == 'Team-Score' or column == \"Opponent-Score\" or column == \"Home\" or column == 'Win':\n",
    "                    None\n",
    "                else:\n",
    "                    opponent.append(np.mean(opponent_df[column]))\n",
    "            \n",
    "            # Target Data\n",
    "            target = []\n",
    "            for column in team_current_game.columns:\n",
    "                if column == 'Team-Score' or column == 'Opponent-Score':\n",
    "                    target.append(team_current_game.iloc[0][column])\n",
    "        \n",
    "            row = team + opponent + target\n",
    "\n",
    "            # Combine\n",
    "            games.append(row)\n",
    "            \n",
    "    # Column Names\n",
    "    team_attributes = ['Team', 'Opponent', 'Win', 'Date', 'Time', 'Location', 'Season', 'Playoff', 'Home']\n",
    "    opp_attributes = ['Team', 'Opponent', 'Win', 'Date', 'Time', 'Location', 'Season', 'Playoff', 'Home', 'Team-Score', 'Opponent-Score']\n",
    "\n",
    "    team_metrics = list(df_12_13.columns)\n",
    "    for i in range(0, len(team_attributes)):\n",
    "        team_metrics.remove(team_attributes[i])\n",
    "\n",
    "    opp_metrics = list(df_12_13.columns)\n",
    "    for i in range(0, len(opp_attributes)):\n",
    "        opp_metrics.remove(opp_attributes[i])\n",
    "    \n",
    "    for i in range(0, len(team_metrics)):\n",
    "        team_metrics[i] = \"avg_team_\" + team_metrics[i]\n",
    "    \n",
    "    for i in range(0, len(opp_metrics)):\n",
    "        opp_metrics[i] = \"avg_opp_\" + opp_metrics[i]\n",
    "\n",
    "    column_names = team_attributes + team_metrics + opp_metrics + ['Team-Score', 'Opponent-Score']\n",
    "    \n",
    "    # Create DataFrame\n",
    "    nba_df = pd.DataFrame(games, columns = column_names)\n",
    "    nba_df = nba_df.drop(['Playoff'], axis = 1)\n",
    "        \n",
    "    return nba_df"
   ]
  },
  {
   "cell_type": "markdown",
   "metadata": {},
   "source": [
    "### Export Data"
   ]
  },
  {
   "cell_type": "code",
   "execution_count": 80,
   "metadata": {},
   "outputs": [],
   "source": [
    "df_12_13 = pd.read_csv(\"df_12_13.csv\")\n",
    "df_13_14 = pd.read_csv(\"df_13_14.csv\")\n",
    "df_14_15 = pd.read_csv(\"df_14_15.csv\")\n",
    "df_15_16 = pd.read_csv(\"df_15_16.csv\")\n",
    "df_16_17 = pd.read_csv(\"df_16_17.csv\")"
   ]
  },
  {
   "cell_type": "code",
   "execution_count": 85,
   "metadata": {},
   "outputs": [],
   "source": [
    "# AVERAGE Regular Season (Non-Playoff) Games\n",
    "number_of_games = 5\n",
    "df_12_13_avg = nba_jam(df_12_13, number_of_games)\n",
    "df_13_14_avg = nba_jam(df_13_14, number_of_games)\n",
    "df_14_15_avg = nba_jam(df_14_15, number_of_games)\n",
    "df_15_16_avg = nba_jam(df_15_16, number_of_games)\n",
    "df_16_17_avg = nba_jam(df_16_17, number_of_games)"
   ]
  },
  {
   "cell_type": "code",
   "execution_count": 86,
   "metadata": {},
   "outputs": [],
   "source": [
    "# Write to csv files\n",
    "df_12_13_avg.to_csv(\"df_12_13_avg.csv\", index = False)\n",
    "df_13_14_avg.to_csv(\"df_13_14_avg.csv\", index = False)\n",
    "df_14_15_avg.to_csv(\"df_14_15_avg.csv\", index = False)\n",
    "df_15_16_avg.to_csv(\"df_15_16_avg.csv\", index = False)\n",
    "df_16_17_avg.to_csv(\"df_16_17_avg.csv\", index = False)"
   ]
  },
  {
   "cell_type": "markdown",
   "metadata": {},
   "source": [
    "### Data Modeling"
   ]
  },
  {
   "cell_type": "code",
   "execution_count": 88,
   "metadata": {},
   "outputs": [],
   "source": [
    "# Core Packages\n",
    "import seaborn as sns\n",
    "import matplotlib.pyplot as plt\n",
    "import os \n",
    "%matplotlib inline\n",
    "\n",
    "# ML Packages\n",
    "from sklearn.linear_model import SGDRegressor, ElasticNetCV, LogisticRegression\n",
    "from sklearn.metrics import mean_squared_error, make_scorer, f1_score, classification_report, accuracy_score\n",
    "from sklearn.preprocessing import StandardScaler\n",
    "from sklearn import datasets, linear_model\n",
    "from sklearn.model_selection import train_test_split, learning_curve, RandomizedSearchCV, GridSearchCV\n",
    "from sklearn.neighbors import KNeighborsClassifier, KNeighborsRegressor\n",
    "from sklearn.svm import SVR, SVC\n",
    "from sklearn.ensemble import RandomForestRegressor, RandomForestClassifier, GradientBoostingClassifier\n",
    "from sklearn.metrics import accuracy_score, confusion_matrix, precision_recall_fscore_support\n",
    "from sklearn.naive_bayes import GaussianNB\n",
    "from sklearn.tree import DecisionTreeClassifier"
   ]
  },
  {
   "cell_type": "code",
   "execution_count": 123,
   "metadata": {},
   "outputs": [],
   "source": [
    "# Read in CSV Files\n",
    "df_12_13_avg = pd.read_csv(\"df_12_13_avg.csv\")\n",
    "df_13_14_avg = pd.read_csv(\"df_13_14_avg.csv\")\n",
    "df_14_15_avg = pd.read_csv(\"df_14_15_avg.csv\")\n",
    "df_15_16_avg = pd.read_csv(\"df_15_16_avg.csv\")\n",
    "df_16_17_avg = pd.read_csv(\"df_16_17_avg.csv\")"
   ]
  },
  {
   "cell_type": "code",
   "execution_count": 124,
   "metadata": {},
   "outputs": [],
   "source": [
    "#train = pd.read_csv(\"df_12_13_avg.csv\")\n",
    "#test = pd.read_csv(\"df_13_14_avg.csv\")\n",
    "#frames = [df_12_13_avg, df_13_14_avg, df_14_15_avg, df_15_16_avg]\n",
    "\n",
    "frames = [df_14_15_avg, df_15_16_avg]\n",
    "result = pd.concat(frames)\n",
    "\n",
    "train = result\n",
    "test = df_16_17_avg\n",
    "\n",
    "train = train.drop(['Team', 'Opponent', 'Team-Score', 'Location', 'Opponent-Score', 'Date', 'Time', 'Season'], axis = 1)\n",
    "test = test.drop(['Team', 'Opponent', 'Team-Score', 'Location', 'Opponent-Score', 'Date', 'Time', 'Season'], axis = 1)\n",
    "\n",
    "target_train = train['Win']\n",
    "target_test = test['Win']\n",
    "train = train.drop(['Win'], axis = 1)\n",
    "test = test.drop(['Win'], axis = 1)"
   ]
  },
  {
   "cell_type": "code",
   "execution_count": 125,
   "metadata": {},
   "outputs": [],
   "source": [
    "# 4. Scale the data\n",
    "scaler = StandardScaler()\n",
    "\n",
    "scaler.fit(train)\n",
    "scaled_train = scaler.transform(train)\n",
    "\n",
    "scaler.fit(test)\n",
    "scaled_test = scaler.transform(test)"
   ]
  },
  {
   "cell_type": "code",
   "execution_count": 126,
   "metadata": {},
   "outputs": [
    {
     "data": {
      "text/plain": [
       "True"
      ]
     },
     "execution_count": 126,
     "metadata": {},
     "output_type": "execute_result"
    }
   ],
   "source": [
    "len(target_train) == len(scaled_train)"
   ]
  },
  {
   "cell_type": "code",
   "execution_count": 127,
   "metadata": {},
   "outputs": [
    {
     "data": {
      "text/plain": [
       "True"
      ]
     },
     "execution_count": 127,
     "metadata": {},
     "output_type": "execute_result"
    }
   ],
   "source": [
    "len(target_test) == len(scaled_test)"
   ]
  },
  {
   "cell_type": "code",
   "execution_count": 128,
   "metadata": {},
   "outputs": [
    {
     "name": "stdout",
     "output_type": "stream",
     "text": [
      "Train Dimensions: (4596, 63) \n",
      "Test Dimensions: (2406, 63)\n"
     ]
    }
   ],
   "source": [
    "print(\"Train Dimensions:\", scaled_train.shape, \"\\nTest Dimensions:\", scaled_test.shape)"
   ]
  },
  {
   "cell_type": "code",
   "execution_count": 129,
   "metadata": {},
   "outputs": [],
   "source": [
    "X_train, X_test, y_train, y_test = train_test_split(scaled_train, target_train, test_size=0.2, random_state=42)"
   ]
  },
  {
   "cell_type": "code",
   "execution_count": 130,
   "metadata": {},
   "outputs": [],
   "source": [
    "def evaluation_metrics(y_train, y_test, train_predictions, test_predictions):\n",
    "    rounding = 2\n",
    "    print('Accuracy:')\n",
    "    print(\"  Train: {}\".format(round(accuracy_score(y_train, train_predictions),rounding)), \"  Test: {}\".format(round(accuracy_score(y_test, test_predictions),rounding)))\n",
    "\n",
    "    print('Precision:')\n",
    "    print(\"  Train: {}\".format(round(precision_recall_fscore_support(y_train, train_predictions)[0][0],rounding)), \"  Test: {}\".format(round(precision_recall_fscore_support(y_test, test_predictions)[0][0],rounding)))\n",
    "\n",
    "    print('Recall:')\n",
    "    print(\"  Train: {}\".format(round(precision_recall_fscore_support(y_train, train_predictions)[1][0],rounding)), \"  Test: {}\".format(round(precision_recall_fscore_support(y_test, test_predictions)[1][0],rounding)))\n",
    "\n",
    "    print('F1:')\n",
    "    print(\"  Train: {}\".format(round(precision_recall_fscore_support(y_train, train_predictions)[2][0],rounding)), \"  Test: {}\".format(round(precision_recall_fscore_support(y_test, test_predictions)[2][0],rounding)))"
   ]
  },
  {
   "cell_type": "code",
   "execution_count": 131,
   "metadata": {},
   "outputs": [
    {
     "name": "stdout",
     "output_type": "stream",
     "text": [
      "Best Params: {'max_depth': 3, 'n_estimators': 250}\n"
     ]
    }
   ],
   "source": [
    "param_dist = {\"n_estimators\": [100, 250, 500], \"max_depth\": [1, 2, 3]}\n",
    "model = RandomForestClassifier()\n",
    "rf = GridSearchCV(model, param_grid = param_dist, scoring='f1')\n",
    "rf.fit(X_train, y_train)\n",
    "rf_train_predictions = rf.predict(X_train)\n",
    "rf_test_predictions = rf.predict(X_test)\n",
    "print(\"Best Params: {}\".format(rf.best_params_))"
   ]
  },
  {
   "cell_type": "code",
   "execution_count": 132,
   "metadata": {},
   "outputs": [
    {
     "name": "stdout",
     "output_type": "stream",
     "text": [
      "Accuracy:\n",
      "  Train: 0.65   Test: 0.6\n",
      "Precision:\n",
      "  Train: 0.65   Test: 0.59\n",
      "Recall:\n",
      "  Train: 0.65   Test: 0.61\n",
      "F1:\n",
      "  Train: 0.65   Test: 0.6\n"
     ]
    }
   ],
   "source": [
    "evaluation_metrics(y_train, y_test, rf_train_predictions, rf_test_predictions)"
   ]
  },
  {
   "cell_type": "code",
   "execution_count": 133,
   "metadata": {},
   "outputs": [
    {
     "data": {
      "text/plain": [
       "0.6390339425587467"
      ]
     },
     "execution_count": 133,
     "metadata": {},
     "output_type": "execute_result"
    }
   ],
   "source": [
    "# Train Score\n",
    "accuracy_score(target_train, rf.predict(scaled_train))"
   ]
  },
  {
   "cell_type": "code",
   "execution_count": 134,
   "metadata": {},
   "outputs": [
    {
     "data": {
      "text/plain": [
       "0.5839567747298421"
      ]
     },
     "execution_count": 134,
     "metadata": {},
     "output_type": "execute_result"
    }
   ],
   "source": [
    "# Test Score\n",
    "accuracy_score(target_test, rf.predict(scaled_test))"
   ]
  },
  {
   "cell_type": "markdown",
   "metadata": {},
   "source": [
    "### Choosing a Machine Learning Algorithm\n",
    "From: [A Data Science Framework: To Achieve 99% Accuracy](https://www.kaggle.com/ldfreeman3/a-data-science-framework-to-achieve-99-accuracy)"
   ]
  },
  {
   "cell_type": "code",
   "execution_count": 135,
   "metadata": {},
   "outputs": [],
   "source": [
    "#Common Model Algorithms\n",
    "from sklearn import svm, tree, linear_model, neighbors, naive_bayes, ensemble, discriminant_analysis, gaussian_process\n",
    "\n",
    "#Common Model Helpers\n",
    "from sklearn.preprocessing import OneHotEncoder, LabelEncoder\n",
    "from sklearn import feature_selection\n",
    "from sklearn import model_selection\n",
    "from sklearn import metrics"
   ]
  }
 ],
 "metadata": {
  "kernelspec": {
   "display_name": "Python 3",
   "language": "python",
   "name": "python3"
  },
  "language_info": {
   "codemirror_mode": {
    "name": "ipython",
    "version": 3
   },
   "file_extension": ".py",
   "mimetype": "text/x-python",
   "name": "python",
   "nbconvert_exporter": "python",
   "pygments_lexer": "ipython3",
   "version": "3.6.3"
  }
 },
 "nbformat": 4,
 "nbformat_minor": 2
}
