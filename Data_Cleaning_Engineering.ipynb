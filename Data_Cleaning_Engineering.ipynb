{
 "cells": [
  {
   "cell_type": "markdown",
   "metadata": {},
   "source": [
    "### Data Cleaning + Engineering"
   ]
  },
  {
   "cell_type": "markdown",
   "metadata": {},
   "source": [
    "NBA Season Date Source: https://en.wikipedia.org/wiki/2017_NBA_Playoffs"
   ]
  },
  {
   "cell_type": "code",
   "execution_count": 1,
   "metadata": {},
   "outputs": [],
   "source": [
    "import pandas as pd\n",
    "import numpy as np\n",
    "\n",
    "pd.set_option('display.max_columns', None)"
   ]
  },
  {
   "cell_type": "code",
   "execution_count": 2,
   "metadata": {
    "scrolled": true
   },
   "outputs": [
    {
     "data": {
      "text/html": [
       "<div>\n",
       "<style>\n",
       "    .dataframe thead tr:only-child th {\n",
       "        text-align: right;\n",
       "    }\n",
       "\n",
       "    .dataframe thead th {\n",
       "        text-align: left;\n",
       "    }\n",
       "\n",
       "    .dataframe tbody tr th {\n",
       "        vertical-align: top;\n",
       "    }\n",
       "</style>\n",
       "<table border=\"1\" class=\"dataframe\">\n",
       "  <thead>\n",
       "    <tr style=\"text-align: right;\">\n",
       "      <th></th>\n",
       "      <th>Team</th>\n",
       "      <th>Opponent</th>\n",
       "      <th>Team-Score</th>\n",
       "      <th>Opponent-Score</th>\n",
       "      <th>Win</th>\n",
       "      <th>Date</th>\n",
       "      <th>Time</th>\n",
       "      <th>Location</th>\n",
       "      <th>FG</th>\n",
       "      <th>FGA</th>\n",
       "      <th>FG%</th>\n",
       "      <th>3P</th>\n",
       "      <th>3PA</th>\n",
       "      <th>3P%</th>\n",
       "      <th>FT</th>\n",
       "      <th>FTA</th>\n",
       "      <th>FT%</th>\n",
       "      <th>ORB</th>\n",
       "      <th>DRB</th>\n",
       "      <th>TRB</th>\n",
       "      <th>AST</th>\n",
       "      <th>STL</th>\n",
       "      <th>BLK</th>\n",
       "      <th>TOV</th>\n",
       "      <th>PF</th>\n",
       "      <th>TS%</th>\n",
       "      <th>eFG%</th>\n",
       "      <th>3PAr</th>\n",
       "      <th>FTr</th>\n",
       "      <th>ORB%</th>\n",
       "      <th>DRB%</th>\n",
       "      <th>TRB%</th>\n",
       "      <th>AST%</th>\n",
       "      <th>STL%</th>\n",
       "      <th>BLK%</th>\n",
       "      <th>TOV%</th>\n",
       "      <th>ORtg</th>\n",
       "      <th>DRtg</th>\n",
       "    </tr>\n",
       "  </thead>\n",
       "  <tbody>\n",
       "    <tr>\n",
       "      <th>0</th>\n",
       "      <td>Cleveland Cavaliers</td>\n",
       "      <td>Washington Wizards</td>\n",
       "      <td>94</td>\n",
       "      <td>84</td>\n",
       "      <td>1</td>\n",
       "      <td>10/30/12</td>\n",
       "      <td>7:00 PM</td>\n",
       "      <td>Quicken Loans Arena, Cleveland, Ohio</td>\n",
       "      <td>36</td>\n",
       "      <td>79</td>\n",
       "      <td>0.456</td>\n",
       "      <td>7</td>\n",
       "      <td>20</td>\n",
       "      <td>0.35</td>\n",
       "      <td>15</td>\n",
       "      <td>22</td>\n",
       "      <td>0.682</td>\n",
       "      <td>18</td>\n",
       "      <td>36</td>\n",
       "      <td>54</td>\n",
       "      <td>22</td>\n",
       "      <td>7</td>\n",
       "      <td>5</td>\n",
       "      <td>20</td>\n",
       "      <td>21</td>\n",
       "      <td>0.53</td>\n",
       "      <td>0.5</td>\n",
       "      <td>0.253</td>\n",
       "      <td>0.278</td>\n",
       "      <td>46.2</td>\n",
       "      <td>66.7</td>\n",
       "      <td>58.1</td>\n",
       "      <td>61.1</td>\n",
       "      <td>8.0</td>\n",
       "      <td>8.6</td>\n",
       "      <td>18.4</td>\n",
       "      <td>106.9</td>\n",
       "      <td>95.5</td>\n",
       "    </tr>\n",
       "  </tbody>\n",
       "</table>\n",
       "</div>"
      ],
      "text/plain": [
       "                  Team            Opponent  Team-Score  Opponent-Score  Win  \\\n",
       "0  Cleveland Cavaliers  Washington Wizards          94              84    1   \n",
       "\n",
       "       Date     Time                              Location  FG  FGA    FG%  \\\n",
       "0  10/30/12  7:00 PM  Quicken Loans Arena, Cleveland, Ohio  36   79  0.456   \n",
       "\n",
       "   3P  3PA   3P%  FT  FTA    FT%  ORB  DRB  TRB  AST  STL  BLK  TOV  PF   TS%  \\\n",
       "0   7   20  0.35  15   22  0.682   18   36   54   22    7    5   20  21  0.53   \n",
       "\n",
       "   eFG%   3PAr    FTr  ORB%  DRB%  TRB%  AST%  STL%  BLK%  TOV%   ORtg  DRtg  \n",
       "0   0.5  0.253  0.278  46.2  66.7  58.1  61.1   8.0   8.6  18.4  106.9  95.5  "
      ]
     },
     "execution_count": 2,
     "metadata": {},
     "output_type": "execute_result"
    }
   ],
   "source": [
    "# Bring in the data\n",
    "df = pd.read_csv(\"game-data-revised.csv\")\n",
    "df.head(1)"
   ]
  },
  {
   "cell_type": "markdown",
   "metadata": {},
   "source": [
    "### Create 'Seasons' Variable"
   ]
  },
  {
   "cell_type": "code",
   "execution_count": 3,
   "metadata": {},
   "outputs": [],
   "source": [
    "# Prepare the data\n",
    "df.Date = pd.to_datetime(df.Date)"
   ]
  },
  {
   "cell_type": "code",
   "execution_count": 4,
   "metadata": {},
   "outputs": [],
   "source": [
    "position = len(df.columns)\n",
    "df['Season'] = \"\"\n",
    "\n",
    "for i in range(0, len(df)):\n",
    "    # 2012-13 Season: October 30, 2012 - June 20, 2013\n",
    "    if df.iloc[i, 5] >= pd.Timestamp('2012-10-30 00:00:00') and df.iloc[i, 5] <= pd.Timestamp('2013-6-20 00:00:00'):\n",
    "        df.iloc[i, position] = '2012-13'\n",
    "    \n",
    "    # 2013-14 Season: October 29, 2013 - June 15, 2014\n",
    "    elif df.iloc[i, 5] >= pd.Timestamp('2013-10-29 00:00:00') and df.iloc[i, 5] <= pd.Timestamp('2014-6-15 00:00:00'):\n",
    "        df.iloc[i, position] = '2013-14'\n",
    "    \n",
    "    # 2014-15 Season: October 29, 2014 - June 16, 2015\n",
    "    elif df.iloc[i, 5] >= pd.Timestamp('2014-10-28 00:00:00') and df.iloc[i, 5] <= pd.Timestamp('2015-6-16 00:00:00'):\n",
    "        df.iloc[i, position] = '2014-15'\n",
    "    \n",
    "    # 2015-16 Season: October 27, 2015 - June 19, 2016\n",
    "    elif df.iloc[i, 5] >= pd.Timestamp('2015-10-27 00:00:00') and df.iloc[i, 5] <= pd.Timestamp('2016-6-19 00:00:00'):\n",
    "        df.iloc[i, position] = '2015-16'\n",
    "    \n",
    "    # 2016-17 Season: October 25, 2016 - June 12, 2017\n",
    "    elif df.iloc[i, 5] >= pd.Timestamp('2016-10-25 00:00:00') and df.iloc[i, 5] <= pd.Timestamp('2017-6-12 00:00:00'):\n",
    "        df.iloc[i, position] = '2016-17'\n",
    "    else: \n",
    "        df.iloc[i, position] = None"
   ]
  },
  {
   "cell_type": "code",
   "execution_count": 5,
   "metadata": {},
   "outputs": [
    {
     "data": {
      "text/plain": [
       "2013-14    2624\n",
       "2016-17    2592\n",
       "2015-16    2500\n",
       "2012-13    2500\n",
       "2014-15    2498\n",
       "Name: Season, dtype: int64"
      ]
     },
     "execution_count": 5,
     "metadata": {},
     "output_type": "execute_result"
    }
   ],
   "source": [
    "df['Season'].value_counts()"
   ]
  },
  {
   "cell_type": "code",
   "execution_count": 6,
   "metadata": {},
   "outputs": [
    {
     "data": {
      "text/html": [
       "<div>\n",
       "<style>\n",
       "    .dataframe thead tr:only-child th {\n",
       "        text-align: right;\n",
       "    }\n",
       "\n",
       "    .dataframe thead th {\n",
       "        text-align: left;\n",
       "    }\n",
       "\n",
       "    .dataframe tbody tr th {\n",
       "        vertical-align: top;\n",
       "    }\n",
       "</style>\n",
       "<table border=\"1\" class=\"dataframe\">\n",
       "  <thead>\n",
       "    <tr style=\"text-align: right;\">\n",
       "      <th></th>\n",
       "      <th>Team</th>\n",
       "      <th>Opponent</th>\n",
       "      <th>Team-Score</th>\n",
       "      <th>Opponent-Score</th>\n",
       "      <th>Win</th>\n",
       "      <th>Date</th>\n",
       "      <th>Time</th>\n",
       "      <th>Location</th>\n",
       "      <th>FG</th>\n",
       "      <th>FGA</th>\n",
       "      <th>FG%</th>\n",
       "      <th>3P</th>\n",
       "      <th>3PA</th>\n",
       "      <th>3P%</th>\n",
       "      <th>FT</th>\n",
       "      <th>FTA</th>\n",
       "      <th>FT%</th>\n",
       "      <th>ORB</th>\n",
       "      <th>DRB</th>\n",
       "      <th>TRB</th>\n",
       "      <th>AST</th>\n",
       "      <th>STL</th>\n",
       "      <th>BLK</th>\n",
       "      <th>TOV</th>\n",
       "      <th>PF</th>\n",
       "      <th>TS%</th>\n",
       "      <th>eFG%</th>\n",
       "      <th>3PAr</th>\n",
       "      <th>FTr</th>\n",
       "      <th>ORB%</th>\n",
       "      <th>DRB%</th>\n",
       "      <th>TRB%</th>\n",
       "      <th>AST%</th>\n",
       "      <th>STL%</th>\n",
       "      <th>BLK%</th>\n",
       "      <th>TOV%</th>\n",
       "      <th>ORtg</th>\n",
       "      <th>DRtg</th>\n",
       "      <th>Season</th>\n",
       "    </tr>\n",
       "  </thead>\n",
       "  <tbody>\n",
       "    <tr>\n",
       "      <th>0</th>\n",
       "      <td>Cleveland Cavaliers</td>\n",
       "      <td>Washington Wizards</td>\n",
       "      <td>94</td>\n",
       "      <td>84</td>\n",
       "      <td>1</td>\n",
       "      <td>2012-10-30</td>\n",
       "      <td>7:00 PM</td>\n",
       "      <td>Quicken Loans Arena, Cleveland, Ohio</td>\n",
       "      <td>36</td>\n",
       "      <td>79</td>\n",
       "      <td>0.456</td>\n",
       "      <td>7</td>\n",
       "      <td>20</td>\n",
       "      <td>0.35</td>\n",
       "      <td>15</td>\n",
       "      <td>22</td>\n",
       "      <td>0.682</td>\n",
       "      <td>18</td>\n",
       "      <td>36</td>\n",
       "      <td>54</td>\n",
       "      <td>22</td>\n",
       "      <td>7</td>\n",
       "      <td>5</td>\n",
       "      <td>20</td>\n",
       "      <td>21</td>\n",
       "      <td>0.53</td>\n",
       "      <td>0.5</td>\n",
       "      <td>0.253</td>\n",
       "      <td>0.278</td>\n",
       "      <td>46.2</td>\n",
       "      <td>66.7</td>\n",
       "      <td>58.1</td>\n",
       "      <td>61.1</td>\n",
       "      <td>8.0</td>\n",
       "      <td>8.6</td>\n",
       "      <td>18.4</td>\n",
       "      <td>106.9</td>\n",
       "      <td>95.5</td>\n",
       "      <td>2012-13</td>\n",
       "    </tr>\n",
       "  </tbody>\n",
       "</table>\n",
       "</div>"
      ],
      "text/plain": [
       "                  Team            Opponent  Team-Score  Opponent-Score  Win  \\\n",
       "0  Cleveland Cavaliers  Washington Wizards          94              84    1   \n",
       "\n",
       "        Date     Time                              Location  FG  FGA    FG%  \\\n",
       "0 2012-10-30  7:00 PM  Quicken Loans Arena, Cleveland, Ohio  36   79  0.456   \n",
       "\n",
       "   3P  3PA   3P%  FT  FTA    FT%  ORB  DRB  TRB  AST  STL  BLK  TOV  PF   TS%  \\\n",
       "0   7   20  0.35  15   22  0.682   18   36   54   22    7    5   20  21  0.53   \n",
       "\n",
       "   eFG%   3PAr    FTr  ORB%  DRB%  TRB%  AST%  STL%  BLK%  TOV%   ORtg  DRtg  \\\n",
       "0   0.5  0.253  0.278  46.2  66.7  58.1  61.1   8.0   8.6  18.4  106.9  95.5   \n",
       "\n",
       "    Season  \n",
       "0  2012-13  "
      ]
     },
     "execution_count": 6,
     "metadata": {},
     "output_type": "execute_result"
    }
   ],
   "source": [
    "df.head(1)"
   ]
  },
  {
   "cell_type": "markdown",
   "metadata": {},
   "source": [
    "### Create 'Playoff' Game Dummy"
   ]
  },
  {
   "cell_type": "code",
   "execution_count": 7,
   "metadata": {},
   "outputs": [],
   "source": [
    "position = len(df.columns)\n",
    "df['Playoff'] = \"\"\n",
    "\n",
    "for i in range(0, len(df)):\n",
    "    # 2013 Playoffs: April 20 - June 20, 2013\n",
    "    if df.iloc[i, 5] >= pd.Timestamp('2013-4-20 00:00:00') and df.iloc[i, 5] <= pd.Timestamp('2013-6-20 00:00:00'):\n",
    "        df.iloc[i, position] = 1\n",
    "    \n",
    "    # 2014 Playoffs: April 19 - June 15, 2014\n",
    "    elif df.iloc[i, 5] >= pd.Timestamp('2014-4-19 00:00:00') and df.iloc[i, 5] <= pd.Timestamp('2014-6-15 00:00:00'):\n",
    "        df.iloc[i, position] = 1\n",
    "    \n",
    "    # 2015 Playoffs: April 18 - June 16, 2015\n",
    "    elif df.iloc[i, 5] >= pd.Timestamp('2015-4-18 00:00:00') and df.iloc[i, 5] <= pd.Timestamp('2015-6-16 00:00:00'):\n",
    "        df.iloc[i, position] = 1\n",
    "    \n",
    "    # 2016 Playoffs: April 16 - June 19, 2016\n",
    "    elif df.iloc[i, 5] >= pd.Timestamp('2016-4-16 00:00:00') and df.iloc[i, 5] <= pd.Timestamp('2016-6-19 00:00:00'):\n",
    "        df.iloc[i, position] = 1\n",
    "    \n",
    "    # 2017 Playoffs: April 15 - June 12, 2017\n",
    "    elif df.iloc[i, 5] >= pd.Timestamp('2017-4-15 00:00:00') and df.iloc[i, 5] <= pd.Timestamp('2017-6-12 00:00:00'):\n",
    "        df.iloc[i, position] = 1\n",
    "    else: \n",
    "        df.iloc[i, position] = 0"
   ]
  },
  {
   "cell_type": "code",
   "execution_count": 8,
   "metadata": {},
   "outputs": [
    {
     "data": {
      "text/plain": [
       "0    11878\n",
       "1      836\n",
       "Name: Playoff, dtype: int64"
      ]
     },
     "execution_count": 8,
     "metadata": {},
     "output_type": "execute_result"
    }
   ],
   "source": [
    "df['Playoff'].value_counts()"
   ]
  },
  {
   "cell_type": "markdown",
   "metadata": {},
   "source": [
    "### Filter by Season"
   ]
  },
  {
   "cell_type": "code",
   "execution_count": 9,
   "metadata": {},
   "outputs": [],
   "source": [
    "# Regular Season (Non-Playoff) Games\n",
    "df_12_13 = df[(df.Season == \"2012-13\") & (df.Playoff == 0)]\n",
    "df_13_14 = df[(df.Season == \"2013-14\") & (df.Playoff == 0)]\n",
    "df_14_15 = df[(df.Season == \"2014-15\") & (df.Playoff == 0)]\n",
    "df_15_16 = df[(df.Season == \"2015-16\") & (df.Playoff == 0)]\n",
    "df_16_17 = df[(df.Season == \"2016-17\") & (df.Playoff == 0)]"
   ]
  },
  {
   "cell_type": "code",
   "execution_count": 10,
   "metadata": {},
   "outputs": [
    {
     "data": {
      "text/html": [
       "<div>\n",
       "<style>\n",
       "    .dataframe thead tr:only-child th {\n",
       "        text-align: right;\n",
       "    }\n",
       "\n",
       "    .dataframe thead th {\n",
       "        text-align: left;\n",
       "    }\n",
       "\n",
       "    .dataframe tbody tr th {\n",
       "        vertical-align: top;\n",
       "    }\n",
       "</style>\n",
       "<table border=\"1\" class=\"dataframe\">\n",
       "  <thead>\n",
       "    <tr style=\"text-align: right;\">\n",
       "      <th></th>\n",
       "      <th>Team</th>\n",
       "      <th>Opponent</th>\n",
       "      <th>Team-Score</th>\n",
       "      <th>Opponent-Score</th>\n",
       "      <th>Win</th>\n",
       "      <th>Date</th>\n",
       "      <th>Time</th>\n",
       "      <th>Location</th>\n",
       "      <th>FG</th>\n",
       "      <th>FGA</th>\n",
       "      <th>FG%</th>\n",
       "      <th>3P</th>\n",
       "      <th>3PA</th>\n",
       "      <th>3P%</th>\n",
       "      <th>FT</th>\n",
       "      <th>FTA</th>\n",
       "      <th>FT%</th>\n",
       "      <th>ORB</th>\n",
       "      <th>DRB</th>\n",
       "      <th>TRB</th>\n",
       "      <th>AST</th>\n",
       "      <th>STL</th>\n",
       "      <th>BLK</th>\n",
       "      <th>TOV</th>\n",
       "      <th>PF</th>\n",
       "      <th>TS%</th>\n",
       "      <th>eFG%</th>\n",
       "      <th>3PAr</th>\n",
       "      <th>FTr</th>\n",
       "      <th>ORB%</th>\n",
       "      <th>DRB%</th>\n",
       "      <th>TRB%</th>\n",
       "      <th>AST%</th>\n",
       "      <th>STL%</th>\n",
       "      <th>BLK%</th>\n",
       "      <th>TOV%</th>\n",
       "      <th>ORtg</th>\n",
       "      <th>DRtg</th>\n",
       "      <th>Season</th>\n",
       "      <th>Playoff</th>\n",
       "    </tr>\n",
       "  </thead>\n",
       "  <tbody>\n",
       "    <tr>\n",
       "      <th>10122</th>\n",
       "      <td>San Antonio Spurs</td>\n",
       "      <td>Golden State Warriors</td>\n",
       "      <td>129</td>\n",
       "      <td>100</td>\n",
       "      <td>1</td>\n",
       "      <td>2016-10-25</td>\n",
       "      <td>10:30 PM</td>\n",
       "      <td>Oracle Arena, Oakland, California</td>\n",
       "      <td>47</td>\n",
       "      <td>98</td>\n",
       "      <td>0.48</td>\n",
       "      <td>12</td>\n",
       "      <td>24</td>\n",
       "      <td>0.5</td>\n",
       "      <td>23</td>\n",
       "      <td>26</td>\n",
       "      <td>0.885</td>\n",
       "      <td>21</td>\n",
       "      <td>34</td>\n",
       "      <td>55</td>\n",
       "      <td>25</td>\n",
       "      <td>13</td>\n",
       "      <td>3</td>\n",
       "      <td>13</td>\n",
       "      <td>19</td>\n",
       "      <td>0.589</td>\n",
       "      <td>0.541</td>\n",
       "      <td>0.245</td>\n",
       "      <td>0.265</td>\n",
       "      <td>43.8</td>\n",
       "      <td>81.0</td>\n",
       "      <td>61.1</td>\n",
       "      <td>53.2</td>\n",
       "      <td>13.2</td>\n",
       "      <td>5.8</td>\n",
       "      <td>10.6</td>\n",
       "      <td>131.3</td>\n",
       "      <td>101.8</td>\n",
       "      <td>2016-17</td>\n",
       "      <td>0</td>\n",
       "    </tr>\n",
       "  </tbody>\n",
       "</table>\n",
       "</div>"
      ],
      "text/plain": [
       "                    Team               Opponent  Team-Score  Opponent-Score  \\\n",
       "10122  San Antonio Spurs  Golden State Warriors         129             100   \n",
       "\n",
       "       Win       Date      Time                           Location  FG  FGA  \\\n",
       "10122    1 2016-10-25  10:30 PM  Oracle Arena, Oakland, California  47   98   \n",
       "\n",
       "        FG%  3P  3PA  3P%  FT  FTA    FT%  ORB  DRB  TRB  AST  STL  BLK  TOV  \\\n",
       "10122  0.48  12   24  0.5  23   26  0.885   21   34   55   25   13    3   13   \n",
       "\n",
       "       PF    TS%   eFG%   3PAr    FTr  ORB%  DRB%  TRB%  AST%  STL%  BLK%  \\\n",
       "10122  19  0.589  0.541  0.245  0.265  43.8  81.0  61.1  53.2  13.2   5.8   \n",
       "\n",
       "       TOV%   ORtg   DRtg   Season Playoff  \n",
       "10122  10.6  131.3  101.8  2016-17       0  "
      ]
     },
     "execution_count": 10,
     "metadata": {},
     "output_type": "execute_result"
    }
   ],
   "source": [
    "df_16_17.head(1)"
   ]
  },
  {
   "cell_type": "markdown",
   "metadata": {},
   "source": [
    "### Combine & Get Averages"
   ]
  },
  {
   "cell_type": "code",
   "execution_count": 34,
   "metadata": {},
   "outputs": [],
   "source": [
    "def nba_jam(dataframe, number_of_games):\n",
    "    games = []\n",
    "    for i in range(0, len(dataframe)):\n",
    "        team_df = dataframe[(dataframe.Team == dataframe.iloc[i,0]) & (dataframe.Date < dataframe.iloc[i,5])].sort_values(by='Date', ascending = True).iloc[-number_of_games:]\n",
    "        opponent_df = dataframe[(dataframe.Team == dataframe.iloc[i,1]) & (dataframe.Date < dataframe.iloc[i,5])].sort_values(by='Date', ascending = True).iloc[-number_of_games:]\n",
    "        \n",
    "        if len(team_df) > 0 and len(opponent_df) > 0:\n",
    "            # Team Data\n",
    "            attributes = []\n",
    "            metrics = []\n",
    "            for column in team_df.columns:\n",
    "                if column == 'Team' or column == 'Opponent' or column == 'Date' or column == 'Time' or column == 'Location' or column == 'Season' or column == 'Playoff':\n",
    "                    attributes.append(team_df.iloc[-1][column]) # Grabbing first row of elements?\n",
    "                else:\n",
    "                    metrics.append(np.mean(team_df[column]))\n",
    "            team = attributes + metrics\n",
    "        \n",
    "            # Opponent Data\n",
    "            opponent = [] \n",
    "            for column in opponent_df.columns:\n",
    "                if column == 'Team' or column == 'Opponent' or column == 'Date' or column == 'Time' or column == 'Location' or column == 'Season' or column == 'Playoff' or column == 'Team-Score' or column == \"Opponent-Score\":\n",
    "                    None\n",
    "                else:\n",
    "                    opponent.append(np.mean(opponent_df[column]))\n",
    "        \n",
    "            # Target Data\n",
    "            target = []\n",
    "            for column in team_df.columns:\n",
    "                if column == 'Win' or column == 'Team-Score' or column == 'Opponent-Score':\n",
    "                    target.append(team_df.iloc[-1][column])\n",
    "        \n",
    "            row = team + opponent + target\n",
    "\n",
    "            # Combine\n",
    "            games.append(row)\n",
    "        \n",
    "    # Column Names\n",
    "    attributes_c = list(dataframe.columns[[0, 1, 5, 6, 7, 38, 39, 2, 3, 4]])\n",
    "    team_c = list(dataframe.columns[8:38])\n",
    "    opponent_c = [\"Win\"] + list(dataframe.columns[8:38])\n",
    "    for i in range(0, len(team_c)):\n",
    "        team_c[i] = \"team_avg_\" + team_c[i]\n",
    "    for i in range(0, len(opponent_c)):\n",
    "        opponent_c[i] = \"opp_avg_\" + opponent_c[i]\n",
    "    column_names = attributes_c + team_c + opponent_c + [\"Team-Score\", \"Opponent-Score\", \"Win\"]\n",
    "    column_names[7:10] = [\"team_avg_score\", \"opp_avg_score\", \"team_avg_win\"]\n",
    "        \n",
    "    # Create DataFrame\n",
    "    nba_df = pd.DataFrame(games, columns = column_names)\n",
    "    nba_df = nba_df.drop(['Playoff'], axis = 1)\n",
    "        \n",
    "    return nba_df"
   ]
  },
  {
   "cell_type": "markdown",
   "metadata": {},
   "source": [
    "### Export Data"
   ]
  },
  {
   "cell_type": "code",
   "execution_count": 35,
   "metadata": {},
   "outputs": [],
   "source": [
    "# AVERAGE Regular Season (Non-Playoff) Games\n",
    "number_of_games = 3\n",
    "df_12_13_avg = nba_jam(df_12_13, number_of_games)\n",
    "df_13_14_avg = nba_jam(df_13_14, number_of_games)\n",
    "#df_14_15_avg = nba_jam(df_14_15, number_of_games)\n",
    "#df_15_16_avg = nba_jam(df_15_16, number_of_games)\n",
    "#df_16_17_avg = nba_jam(df_16_17, number_of_games)"
   ]
  },
  {
   "cell_type": "code",
   "execution_count": 36,
   "metadata": {},
   "outputs": [],
   "source": [
    "# Write to csv files\n",
    "df_12_13_avg.to_csv(\"df_12_13_avg.csv\", index = False)\n",
    "df_13_14_avg.to_csv(\"df_13_14_avg.csv\", index = False)\n",
    "#df_14_15_avg.to_csv(\"df_14_15_avg.csv\", index = False)\n",
    "#df_15_16_avg.to_csv(\"df_15_16_avg.csv\", index = False)\n",
    "#df_16_17_avg.to_csv(\"df_16_17_avg.csv\", index = False)"
   ]
  },
  {
   "cell_type": "markdown",
   "metadata": {},
   "source": [
    "### Data Modeling"
   ]
  },
  {
   "cell_type": "code",
   "execution_count": 53,
   "metadata": {},
   "outputs": [],
   "source": [
    "# Core Packages\n",
    "import seaborn as sns\n",
    "import matplotlib.pyplot as plt\n",
    "import os \n",
    "%matplotlib inline\n",
    "\n",
    "# ML Packages\n",
    "from sklearn.linear_model import SGDRegressor, ElasticNetCV, LogisticRegression\n",
    "from sklearn.metrics import mean_squared_error, make_scorer, f1_score, classification_report, accuracy_score\n",
    "from sklearn.preprocessing import StandardScaler\n",
    "from sklearn import datasets, linear_model\n",
    "from sklearn.model_selection import train_test_split, learning_curve, RandomizedSearchCV, GridSearchCV\n",
    "from sklearn.neighbors import KNeighborsClassifier, KNeighborsRegressor\n",
    "from sklearn.svm import SVR, SVC\n",
    "from sklearn.ensemble import RandomForestRegressor, RandomForestClassifier, GradientBoostingClassifier\n",
    "from sklearn.metrics import accuracy_score, confusion_matrix, precision_recall_fscore_support\n",
    "from sklearn.naive_bayes import GaussianNB\n",
    "from sklearn.tree import DecisionTreeClassifier"
   ]
  },
  {
   "cell_type": "code",
   "execution_count": 101,
   "metadata": {},
   "outputs": [],
   "source": [
    "train = pd.read_csv(\"df_12_13_avg.csv\")\n",
    "test = pd.read_csv(\"df_13_14_avg.csv\")\n",
    "\n",
    "train = train.drop(['Team', 'Opponent', 'Team-Score', 'Location', 'Opponent-Score', 'Date', 'Time', 'Season'], axis = 1)\n",
    "test = test.drop(['Team', 'Opponent', 'Team-Score', 'Location', 'Opponent-Score', 'Date', 'Time', 'Season'], axis = 1)\n",
    "\n",
    "target_train = train['Win']\n",
    "target_test = test['Win']\n",
    "train = train.drop(['Win'], axis = 1)\n",
    "test = test.drop(['Win'], axis = 1)"
   ]
  },
  {
   "cell_type": "code",
   "execution_count": 102,
   "metadata": {},
   "outputs": [],
   "source": [
    "# 4. Scale the data\n",
    "scaler = StandardScaler()\n",
    "\n",
    "scaler.fit(train)\n",
    "scaled_train = scaler.transform(train)\n",
    "\n",
    "scaler.fit(test)\n",
    "scaled_test = scaler.transform(test)"
   ]
  },
  {
   "cell_type": "code",
   "execution_count": 103,
   "metadata": {},
   "outputs": [
    {
     "data": {
      "text/plain": [
       "True"
      ]
     },
     "execution_count": 103,
     "metadata": {},
     "output_type": "execute_result"
    }
   ],
   "source": [
    "len(target_train) == len(scaled_train)"
   ]
  },
  {
   "cell_type": "code",
   "execution_count": 104,
   "metadata": {},
   "outputs": [
    {
     "data": {
      "text/plain": [
       "True"
      ]
     },
     "execution_count": 104,
     "metadata": {},
     "output_type": "execute_result"
    }
   ],
   "source": [
    "len(target_test) == len(scaled_test)"
   ]
  },
  {
   "cell_type": "code",
   "execution_count": 69,
   "metadata": {},
   "outputs": [
    {
     "name": "stdout",
     "output_type": "stream",
     "text": [
      "Train Dimensions: (2290, 64) \n",
      "Test Dimensions: (2412, 64)\n"
     ]
    }
   ],
   "source": [
    "print(\"Train Dimensions:\", scaled_train.shape, \"\\nTest Dimensions:\", scaled_test.shape)"
   ]
  },
  {
   "cell_type": "code",
   "execution_count": 70,
   "metadata": {},
   "outputs": [],
   "source": [
    "X_train, X_test, y_train, y_test = train_test_split(scaled_train, target, test_size=0.2, random_state=42)"
   ]
  },
  {
   "cell_type": "code",
   "execution_count": 71,
   "metadata": {},
   "outputs": [],
   "source": [
    "def evaluation_metrics(y_train, y_test, train_predictions, test_predictions):\n",
    "    rounding = 2\n",
    "    print('Accuracy:')\n",
    "    print(\"  Train: {}\".format(round(accuracy_score(y_train, train_predictions),rounding)), \"  Test: {}\".format(round(accuracy_score(y_test, test_predictions),rounding)))\n",
    "\n",
    "    print('Precision:')\n",
    "    print(\"  Train: {}\".format(round(precision_recall_fscore_support(y_train, train_predictions)[0][0],rounding)), \"  Test: {}\".format(round(precision_recall_fscore_support(y_test, test_predictions)[0][0],rounding)))\n",
    "\n",
    "    print('Recall:')\n",
    "    print(\"  Train: {}\".format(round(precision_recall_fscore_support(y_train, train_predictions)[1][0],rounding)), \"  Test: {}\".format(round(precision_recall_fscore_support(y_test, test_predictions)[1][0],rounding)))\n",
    "\n",
    "    print('F1:')\n",
    "    print(\"  Train: {}\".format(round(precision_recall_fscore_support(y_train, train_predictions)[2][0],rounding)), \"  Test: {}\".format(round(precision_recall_fscore_support(y_test, test_predictions)[2][0],rounding)))"
   ]
  },
  {
   "cell_type": "code",
   "execution_count": 72,
   "metadata": {},
   "outputs": [
    {
     "name": "stdout",
     "output_type": "stream",
     "text": [
      "Best Params: {'max_depth': 3, 'n_estimators': 500}\n"
     ]
    }
   ],
   "source": [
    "param_dist = {\"n_estimators\": [500], \"max_depth\": [3]}\n",
    "model = RandomForestClassifier()\n",
    "rf = GridSearchCV(model, param_grid = param_dist, scoring='f1')\n",
    "rf.fit(X_train, y_train)\n",
    "rf_train_predictions = rf.predict(X_train)\n",
    "rf_test_predictions = rf.predict(X_test)\n",
    "print(\"Best Params: {}\".format(rf.best_params_))"
   ]
  },
  {
   "cell_type": "code",
   "execution_count": 73,
   "metadata": {},
   "outputs": [
    {
     "name": "stdout",
     "output_type": "stream",
     "text": [
      "Accuracy:\n",
      "  Train: 0.78   Test: 0.79\n",
      "Precision:\n",
      "  Train: 0.78   Test: 0.79\n",
      "Recall:\n",
      "  Train: 0.78   Test: 0.78\n",
      "F1:\n",
      "  Train: 0.78   Test: 0.78\n"
     ]
    }
   ],
   "source": [
    "evaluation_metrics(y_train, y_test, rf_train_predictions, rf_test_predictions)"
   ]
  },
  {
   "cell_type": "code",
   "execution_count": 105,
   "metadata": {},
   "outputs": [
    {
     "data": {
      "text/plain": [
       "0.7829694323144105"
      ]
     },
     "execution_count": 105,
     "metadata": {},
     "output_type": "execute_result"
    }
   ],
   "source": [
    "accuracy_score(target_train, rf.predict(scaled_train))"
   ]
  },
  {
   "cell_type": "code",
   "execution_count": 106,
   "metadata": {},
   "outputs": [
    {
     "data": {
      "text/plain": [
       "0.7599502487562189"
      ]
     },
     "execution_count": 106,
     "metadata": {},
     "output_type": "execute_result"
    }
   ],
   "source": [
    "accuracy_score(target_test, rf.predict(scaled_test))"
   ]
  },
  {
   "cell_type": "code",
   "execution_count": 96,
   "metadata": {},
   "outputs": [
    {
     "data": {
      "text/plain": [
       "2290"
      ]
     },
     "execution_count": 96,
     "metadata": {},
     "output_type": "execute_result"
    }
   ],
   "source": [
    "len(target_test)"
   ]
  },
  {
   "cell_type": "code",
   "execution_count": 93,
   "metadata": {},
   "outputs": [
    {
     "data": {
      "text/plain": [
       "2412"
      ]
     },
     "execution_count": 93,
     "metadata": {},
     "output_type": "execute_result"
    }
   ],
   "source": [
    "len(scaled_test)"
   ]
  },
  {
   "cell_type": "code",
   "execution_count": 77,
   "metadata": {},
   "outputs": [
    {
     "data": {
      "text/plain": [
       "2412"
      ]
     },
     "execution_count": 77,
     "metadata": {},
     "output_type": "execute_result"
    }
   ],
   "source": [
    "len(scaled_test)"
   ]
  }
 ],
 "metadata": {
  "kernelspec": {
   "display_name": "Python 3",
   "language": "python",
   "name": "python3"
  },
  "language_info": {
   "codemirror_mode": {
    "name": "ipython",
    "version": 3
   },
   "file_extension": ".py",
   "mimetype": "text/x-python",
   "name": "python",
   "nbconvert_exporter": "python",
   "pygments_lexer": "ipython3",
   "version": "3.6.3"
  }
 },
 "nbformat": 4,
 "nbformat_minor": 2
}
