{
 "cells": [
  {
   "cell_type": "markdown",
   "metadata": {},
   "source": [
    "# Clustering"
   ]
  },
  {
   "cell_type": "code",
   "execution_count": 12,
   "metadata": {},
   "outputs": [],
   "source": [
    "# Core Packages\n",
    "import os\n",
    "import pandas as pd\n",
    "os.chdir(\"/Users/erikgregorywebb/Documents/Python/nba-prediction/Clustering/Data\")\n",
    "\n",
    "# Packages for K-Means\n",
    "from sklearn.cluster import KMeans, AgglomerativeClustering\n",
    "from sklearn import preprocessing\n",
    "from sklearn.metrics import homogeneity_score\n",
    "from sklearn.metrics import silhouette_score\n",
    "from collections import Counter"
   ]
  },
  {
   "cell_type": "code",
   "execution_count": 13,
   "metadata": {},
   "outputs": [],
   "source": [
    "df_12_13 = pd.read_csv(\"df_12_13.csv\")\n",
    "df_13_14 = pd.read_csv(\"df_13_14.csv\")\n",
    "df_14_15 = pd.read_csv(\"df_14_15.csv\")\n",
    "df_15_16 = pd.read_csv(\"df_15_16.csv\")\n",
    "df_16_17 = pd.read_csv(\"df_16_17.csv\")"
   ]
  },
  {
   "cell_type": "code",
   "execution_count": 14,
   "metadata": {},
   "outputs": [],
   "source": [
    "def find_majority(votes):\n",
    "    vote_count = Counter(votes)\n",
    "    top_two = vote_count.most_common(2)\n",
    "    if len(top_two)>1 and top_two[0][1] == top_two[1][1]:\n",
    "        # It is a tie\n",
    "        return top_two[0][0]\n",
    "    return top_two[0][0]\n",
    "\n",
    "def get_clusters(dataframe, number_of_clusters):\n",
    "    # Prepare the data\n",
    "    Team_Name = dataframe[\"Team\"]\n",
    "    Opponent_Name = dataframe[\"Opponent\"]\n",
    "    dataframe = dataframe.drop(['FG%', '3P%', 'FT%', 'TS%', 'eFG%', 'ORB%', 'DRB%', 'BLK%', 'TOV%', 'ORtg', 'Team-Score', 'Opponent-Score', 'Win', 'Season', 'Location', 'Date', 'Time', 'Team', 'Opponent'], axis=1)\n",
    "    \n",
    "    # Create the clusters\n",
    "    kmeans_model = KMeans(n_clusters = number_of_clusters, n_init = 5, n_jobs = 1).fit(dataframe)\n",
    "    labels = kmeans_model.labels_\n",
    "    \n",
    "    # Create the dataframe\n",
    "    dataframe['Clusters'] = labels\n",
    "    teams = Team_Name.unique()\n",
    "    clusters = []\n",
    "    for team in teams:\n",
    "        clusters.append(find_majority(dataframe.iloc[Team_Name[Team_Name==team].index]['Clusters']))\n",
    "    \n",
    "    cluster_df = pd.DataFrame(list(map(list, zip(teams,clusters))), columns = ['Team', 'Cluster'])\n",
    "    cluster_df = cluster_df.sort_values(by='Cluster', ascending = True)\n",
    "    cluster_df = cluster_df.reset_index(drop=True)\n",
    "    \n",
    "    return cluster_df"
   ]
  },
  {
   "cell_type": "code",
   "execution_count": 15,
   "metadata": {},
   "outputs": [],
   "source": [
    "dataframes = [df_12_13, df_13_14, df_14_15, df_15_16, df_16_17]\n",
    "data = pd.DataFrame(columns = ['Team', 'Cluster'])\n",
    "year = 2012\n",
    "\n",
    "for dataframe in dataframes:\n",
    "    temp = get_clusters(dataframe, 8)\n",
    "    temp[\"Year\"] = str(year)\n",
    "    year = year + 1\n",
    "    data= data.append(temp, ignore_index=True)"
   ]
  },
  {
   "cell_type": "code",
   "execution_count": 16,
   "metadata": {},
   "outputs": [
    {
     "data": {
      "text/html": [
       "<div>\n",
       "<style>\n",
       "    .dataframe thead tr:only-child th {\n",
       "        text-align: right;\n",
       "    }\n",
       "\n",
       "    .dataframe thead th {\n",
       "        text-align: left;\n",
       "    }\n",
       "\n",
       "    .dataframe tbody tr th {\n",
       "        vertical-align: top;\n",
       "    }\n",
       "</style>\n",
       "<table border=\"1\" class=\"dataframe\">\n",
       "  <thead>\n",
       "    <tr style=\"text-align: right;\">\n",
       "      <th></th>\n",
       "      <th>Cluster</th>\n",
       "      <th>Team</th>\n",
       "      <th>Year</th>\n",
       "    </tr>\n",
       "  </thead>\n",
       "  <tbody>\n",
       "    <tr>\n",
       "      <th>104</th>\n",
       "      <td>3</td>\n",
       "      <td>Washington Wizards</td>\n",
       "      <td>2015</td>\n",
       "    </tr>\n",
       "    <tr>\n",
       "      <th>105</th>\n",
       "      <td>3</td>\n",
       "      <td>Chicago Bulls</td>\n",
       "      <td>2015</td>\n",
       "    </tr>\n",
       "  </tbody>\n",
       "</table>\n",
       "</div>"
      ],
      "text/plain": [
       "    Cluster                Team  Year\n",
       "104       3  Washington Wizards  2015\n",
       "105       3       Chicago Bulls  2015"
      ]
     },
     "execution_count": 16,
     "metadata": {},
     "output_type": "execute_result"
    }
   ],
   "source": [
    "data[(data.Cluster == 3) & (data.Year == \"2015\")]"
   ]
  },
  {
   "cell_type": "code",
   "execution_count": 17,
   "metadata": {},
   "outputs": [
    {
     "data": {
      "text/html": [
       "<div>\n",
       "<style>\n",
       "    .dataframe thead tr:only-child th {\n",
       "        text-align: right;\n",
       "    }\n",
       "\n",
       "    .dataframe thead th {\n",
       "        text-align: left;\n",
       "    }\n",
       "\n",
       "    .dataframe tbody tr th {\n",
       "        vertical-align: top;\n",
       "    }\n",
       "</style>\n",
       "<table border=\"1\" class=\"dataframe\">\n",
       "  <thead>\n",
       "    <tr style=\"text-align: right;\">\n",
       "      <th></th>\n",
       "      <th>Team</th>\n",
       "      <th>Cluster</th>\n",
       "    </tr>\n",
       "  </thead>\n",
       "  <tbody>\n",
       "    <tr>\n",
       "      <th>0</th>\n",
       "      <td>Brooklyn Nets</td>\n",
       "      <td>0</td>\n",
       "    </tr>\n",
       "    <tr>\n",
       "      <th>1</th>\n",
       "      <td>Denver Nuggets</td>\n",
       "      <td>0</td>\n",
       "    </tr>\n",
       "    <tr>\n",
       "      <th>2</th>\n",
       "      <td>Minnesota Timberwolves</td>\n",
       "      <td>2</td>\n",
       "    </tr>\n",
       "    <tr>\n",
       "      <th>3</th>\n",
       "      <td>Sacramento Kings</td>\n",
       "      <td>4</td>\n",
       "    </tr>\n",
       "    <tr>\n",
       "      <th>4</th>\n",
       "      <td>Cleveland Cavaliers</td>\n",
       "      <td>4</td>\n",
       "    </tr>\n",
       "  </tbody>\n",
       "</table>\n",
       "</div>"
      ],
      "text/plain": [
       "                     Team  Cluster\n",
       "0           Brooklyn Nets        0\n",
       "1          Denver Nuggets        0\n",
       "2  Minnesota Timberwolves        2\n",
       "3        Sacramento Kings        4\n",
       "4     Cleveland Cavaliers        4"
      ]
     },
     "execution_count": 17,
     "metadata": {},
     "output_type": "execute_result"
    }
   ],
   "source": [
    "# Cluster teams using ALL seasons\n",
    "frames = [df_12_13, df_13_14, df_14_15, df_15_16, df_16_17]\n",
    "all_seasons = pd.concat(frames)\n",
    "get_clusters(all_seasons, 8).head()"
   ]
  }
 ],
 "metadata": {
  "kernelspec": {
   "display_name": "Python 3",
   "language": "python",
   "name": "python3"
  },
  "language_info": {
   "codemirror_mode": {
    "name": "ipython",
    "version": 3
   },
   "file_extension": ".py",
   "mimetype": "text/x-python",
   "name": "python",
   "nbconvert_exporter": "python",
   "pygments_lexer": "ipython3",
   "version": "3.6.3"
  }
 },
 "nbformat": 4,
 "nbformat_minor": 2
}
